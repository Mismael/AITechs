{
 "cells": [
  {
   "cell_type": "code",
   "execution_count": null,
   "metadata": {
    "collapsed": true
   },
   "outputs": [],
   "source": [
    "\n",
    "if you want to detect a definite object according to it's color, so you can say that you want to filter the given image for this object from any another object of any color except you want.\n",
    "\n",
    "it's is easy to do it ...for example, in a competition called \"Minesweepers\" you should detect mines on the ground with black color on a sandy ground, so you have to detect these black objects then contour them and draw rectangle around them and return how many object you detect by the camera.\n",
    "\n",
    "for now we will detect an object by it's color.\n",
    "\n",
    "Now look to this photo of a mine from the competition arena.......\n",
    "\n",
    "\n",
    "it's just a black box but due to the sun light reflection on the box surface, it seems brighter.\n",
    "when we talk in the brightness of an object we must talk about HSV (Hue - Saturation - Value) because it discusses the ration of the brightness in the image.\n",
    "\n",
    "Brightness is the amount of mixing a color with white color.\n",
    "\n",
    "so what will we do now ?\n",
    "\n",
    "we have a the arena image now (or video taken by camera).\n",
    "convert the image to HSV\n",
    "define your range of the color in the HSV to filter it from the total frame.\n",
    "let's suppose that this is the view in front of your camera......\n",
    "\n",
    "\n",
    "and only we want is just this box...\n",
    "\n",
    "Now with the code:\n",
    "\n",
    "int main()\n",
    "{\n",
    "IplImage* img = cvLoadImage( \"D:\\\\arena.jpg\" );\n",
    "IplImage* hsv = cvCreateImage(cvGetSize(img),IPL_DEPTH_8U,3); //create a 3 channeled frame.\n",
    "IplImage* bw = cvCreateImage(cvGetSize(img),IPL_DEPTH_8U,1); //create a layer frame for the output \n",
    "cvCvtColor(img, hsv, CV_BGR2HSV); //convert from RGB to HSV\n",
    "/// define the range of the HSV for the black color H(0-174) , S(0-183),V(0-54) and but the out put in (bw)\n",
    "cvInRangeS(hsv, cvScalar(0, 0, 0), cvScalar(174, 183, 54), bw); \n",
    "cvShowImage(\"src\", bw);\n",
    "cvShowImage(\"Origin Arena\",img);\n",
    "cvWaitKey(0);\n",
    "return 0;\n",
    "} \n",
    "\n",
    "\n",
    "This is the output of the code.......\n",
    "\n",
    "\n",
    "\n",
    "\n",
    " That's all till now :)"
   ]
  }
 ],
 "metadata": {
  "anaconda-cloud": {},
  "kernelspec": {
   "display_name": "Python [conda env:anaconda3]",
   "language": "python",
   "name": "conda-env-anaconda3-py"
  },
  "language_info": {
   "codemirror_mode": {
    "name": "ipython",
    "version": 3
   },
   "file_extension": ".py",
   "mimetype": "text/x-python",
   "name": "python",
   "nbconvert_exporter": "python",
   "pygments_lexer": "ipython3",
   "version": "3.5.3"
  }
 },
 "nbformat": 4,
 "nbformat_minor": 1
}
