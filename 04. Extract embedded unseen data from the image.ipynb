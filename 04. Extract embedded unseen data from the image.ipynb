{
 "cells": [
  {
   "cell_type": "code",
   "execution_count": 18,
   "metadata": {
    "collapsed": false,
    "scrolled": true
   },
   "outputs": [
    {
     "ename": "SyntaxError",
     "evalue": "invalid syntax (<ipython-input-18-bf7f690da1e6>, line 76)",
     "output_type": "error",
     "traceback": [
      "\u001b[0;36m  File \u001b[0;32m\"<ipython-input-18-bf7f690da1e6>\"\u001b[0;36m, line \u001b[0;32m76\u001b[0m\n\u001b[0;31m    print get_lat_lon(exif_data)\u001b[0m\n\u001b[0m                    ^\u001b[0m\n\u001b[0;31mSyntaxError\u001b[0m\u001b[0;31m:\u001b[0m invalid syntax\n"
     ]
    }
   ],
   "source": [
    "from PIL import Image\n",
    "from PIL.ExifTags import TAGS, GPSTAGS\n",
    "\n",
    "def get_exif_data(image):\n",
    "    \"\"\"Returns a dictionary from the exif data of an PIL Image item. Also converts the GPS Tags\"\"\"\n",
    "    exif_data = {}\n",
    "    info = image._getexif()\n",
    "    if info:\n",
    "        for tag, value in info.items():\n",
    "            decoded = TAGS.get(tag, tag)\n",
    "            if decoded == \"GPSInfo\":\n",
    "                gps_data = {}\n",
    "                for t in value:\n",
    "                    sub_decoded = GPSTAGS.get(t, t)\n",
    "                    gps_data[sub_decoded] = value[t]\n",
    "\n",
    "                exif_data[decoded] = gps_data\n",
    "            else:\n",
    "                exif_data[decoded] = value\n",
    "\n",
    "    return exif_data\n",
    "\n",
    "def _get_if_exist(data, key):\n",
    "    if key in data:\n",
    "        return data[key]\n",
    "\n",
    "    return None\n",
    "\n",
    "def _convert_to_degress(value):\n",
    "    \"\"\"Helper function to convert the GPS coordinates stored in the EXIF to degress in float format\"\"\"\n",
    "    d0 = value[0][0]\n",
    "    d1 = value[0][1]\n",
    "    d = float(d0) / float(d1)\n",
    "\n",
    "    m0 = value[1][0]\n",
    "    m1 = value[1][1]\n",
    "    m = float(m0) / float(m1)\n",
    "\n",
    "    s0 = value[2][0]\n",
    "    s1 = value[2][1]\n",
    "    s = float(s0) / float(s1)\n",
    "\n",
    "    return d + (m / 60.0) + (s / 3600.0)\n",
    "\n",
    "def get_lat_lon(exif_data):\n",
    "    \"\"\"Returns the latitude and longitude, if available, from the provided exif_data (obtained through get_exif_data above)\"\"\"\n",
    "    lat = None\n",
    "    lon = None\n",
    "\n",
    "    if \"GPSInfo\" in exif_data:\n",
    "        gps_info = exif_data[\"GPSInfo\"]\n",
    "\n",
    "        gps_latitude = _get_if_exist(gps_info, \"GPSLatitude\")\n",
    "        gps_latitude_ref = _get_if_exist(gps_info, 'GPSLatitudeRef')\n",
    "        gps_longitude = _get_if_exist(gps_info, 'GPSLongitude')\n",
    "        gps_longitude_ref = _get_if_exist(gps_info, 'GPSLongitudeRef')\n",
    "\n",
    "        if gps_latitude and gps_latitude_ref and gps_longitude and gps_longitude_ref:\n",
    "            lat = _convert_to_degress(gps_latitude)\n",
    "            if gps_latitude_ref != \"N\":                     \n",
    "                lat = 0 - lat\n",
    "\n",
    "            lon = _convert_to_degress(gps_longitude)\n",
    "            if gps_longitude_ref != \"E\":\n",
    "                lon = 0 - lon\n",
    "\n",
    "    return lat, lon\n",
    "\n",
    "\n",
    "################\n",
    "# Example ######\n",
    "################\n",
    "if __name__ == \"__main__\":\n",
    "    image = \"/media//mgd-pc//m.magdy.isl//E-Library//Personals//Photos & Videos//Ain Shams - Engineering//im.jpg\" # load an image through PIL's Image object\n",
    "    exif_data = get_exif_data(image)\n",
    "    print get_lat_lon(exif_data)"
   ]
  },
  {
   "cell_type": "code",
   "execution_count": null,
   "metadata": {
    "collapsed": true
   },
   "outputs": [],
   "source": []
  }
 ],
 "metadata": {
  "kernelspec": {
   "display_name": "Python [conda env:anaconda3]",
   "language": "python",
   "name": "conda-env-anaconda3-py"
  },
  "language_info": {
   "codemirror_mode": {
    "name": "ipython",
    "version": 3
   },
   "file_extension": ".py",
   "mimetype": "text/x-python",
   "name": "python",
   "nbconvert_exporter": "python",
   "pygments_lexer": "ipython3",
   "version": "3.5.4"
  }
 },
 "nbformat": 4,
 "nbformat_minor": 1
}
