{
 "cells": [
  {
   "cell_type": "markdown",
   "metadata": {},
   "source": [
    "# Step 01: Load lib modules"
   ]
  },
  {
   "cell_type": "code",
   "execution_count": 87,
   "metadata": {},
   "outputs": [],
   "source": [
    "import tensorflow as tf\n",
    "import pandas as pd\n",
    "import matplotlib.pyplot as plt\n",
    "import cv2\n",
    "import keras\n",
    "import time\n",
    "import pickle\n",
    "import numpy as np\n",
    "\n",
    "%matplotlib inline \n",
    "import scipy.io.wavfile  \n",
    "from sklearn.manifold import TSNE"
   ]
  },
  {
   "cell_type": "markdown",
   "metadata": {},
   "source": [
    "# Step 02: Load CIFAR-100 dataset"
   ]
  },
  {
   "cell_type": "code",
   "execution_count": 88,
   "metadata": {},
   "outputs": [],
   "source": [
    "#download https://www.cs.toronto.edu/~kriz/cifar-100-python.tar.gz\n",
    "#Directories \n",
    "cifar_dataset_train_dir = \"./datasets/dataset_cifar-100/train\"\n",
    "cifar_dataset_test_dir = \"./datasets/dataset_cifar-100/test\"\n",
    "cifar_dataset_label_dir = \"./datasets/dataset_cifar-100/meta\"\n",
    "#Load Training Set\n",
    "cifar_dataset_train = open(cifar_dataset_train_dir, 'rb')\n",
    "cifar_dataset_train = pickle.load(cifar_dataset_train, encoding='bytes')\n",
    "#Load Testing Set\n",
    "cifar_dataset_test = open(cifar_dataset_test_dir, 'rb')\n",
    "cifar_dataset_test = pickle.load(cifar_dataset_test, encoding='bytes')\n",
    "#Load Labels\n",
    "cifar_dataset_label = open(cifar_dataset_label_dir, 'rb')\n",
    "cifar_dataset_label = pickle.load(cifar_dataset_label, encoding='bytes')"
   ]
  },
  {
   "cell_type": "markdown",
   "metadata": {},
   "source": [
    "# Step 03: Check data content"
   ]
  },
  {
   "cell_type": "markdown",
   "metadata": {},
   "source": [
    "> Dataset Labels (Super Class: coarse, Sub Class: fine)"
   ]
  },
  {
   "cell_type": "code",
   "execution_count": 89,
   "metadata": {},
   "outputs": [
    {
     "name": "stdout",
     "output_type": "stream",
     "text": [
      "b'coarse_label_names'\n",
      "b'fine_label_names'\n"
     ]
    }
   ],
   "source": [
    "for keys in cifar_dataset_label:\n",
    "    print(keys)"
   ]
  },
  {
   "cell_type": "markdown",
   "metadata": {},
   "source": [
    "> Super Class Labels"
   ]
  },
  {
   "cell_type": "code",
   "execution_count": 90,
   "metadata": {},
   "outputs": [
    {
     "data": {
      "text/plain": [
       "[b'aquatic_mammals',\n",
       " b'fish',\n",
       " b'flowers',\n",
       " b'food_containers',\n",
       " b'fruit_and_vegetables',\n",
       " b'household_electrical_devices',\n",
       " b'household_furniture',\n",
       " b'insects',\n",
       " b'large_carnivores',\n",
       " b'large_man-made_outdoor_things',\n",
       " b'large_natural_outdoor_scenes',\n",
       " b'large_omnivores_and_herbivores',\n",
       " b'medium_mammals',\n",
       " b'non-insect_invertebrates',\n",
       " b'people',\n",
       " b'reptiles',\n",
       " b'small_mammals',\n",
       " b'trees',\n",
       " b'vehicles_1',\n",
       " b'vehicles_2']"
      ]
     },
     "execution_count": 90,
     "metadata": {},
     "output_type": "execute_result"
    }
   ],
   "source": [
    "cifar_dataset_label.get(b'coarse_label_names')"
   ]
  },
  {
   "cell_type": "markdown",
   "metadata": {},
   "source": [
    "> Sub Class Labels"
   ]
  },
  {
   "cell_type": "code",
   "execution_count": 91,
   "metadata": {},
   "outputs": [
    {
     "name": "stdout",
     "output_type": "stream",
     "text": [
      "Number of Labels:  100\n"
     ]
    }
   ],
   "source": [
    "print(\"Number of Labels: \",len(cifar_dataset_label.get(b'fine_label_names')))"
   ]
  },
  {
   "cell_type": "markdown",
   "metadata": {},
   "source": [
    "# Step 04: Visualize, Encode and Load to List"
   ]
  },
  {
   "cell_type": "markdown",
   "metadata": {},
   "source": [
    "> Dictionary Keys (for both train and test set) "
   ]
  },
  {
   "cell_type": "code",
   "execution_count": 92,
   "metadata": {},
   "outputs": [
    {
     "name": "stdout",
     "output_type": "stream",
     "text": [
      "b'data'\n",
      "b'batch_label'\n",
      "b'filenames'\n",
      "b'coarse_labels'\n",
      "b'fine_labels'\n"
     ]
    }
   ],
   "source": [
    "for keys in cifar_dataset_train:\n",
    "    print(keys)"
   ]
  },
  {
   "cell_type": "markdown",
   "metadata": {},
   "source": [
    "> Visualize Sample Train data"
   ]
  },
  {
   "cell_type": "code",
   "execution_count": 93,
   "metadata": {},
   "outputs": [
    {
     "name": "stdout",
     "output_type": "stream",
     "text": [
      "Batch Label:  116\n",
      "File Name:  b'bos_taurus_s_000507.png'\n",
      "11\n",
      "b'large_omnivores_and_herbivores'\n",
      "19\n",
      "b'cattle'\n"
     ]
    },
    {
     "data": {
      "image/png": "[encoded data removed]",
      "text/plain": [
       "<matplotlib.figure.Figure at 0x7ff54c028048>"
      ]
     },
     "metadata": {},
     "output_type": "display_data"
    }
   ],
   "source": [
    "indx = 0\n",
    "##Reshaping\n",
    "data = cifar_dataset_train.get(b'data')[indx].reshape(3, 1024).T\n",
    "colored_image = data.reshape(32,32,3)\n",
    "#show Image\n",
    "plt.imshow(colored_image)\n",
    "#Print Batch Label\n",
    "print(\"Batch Label: \",cifar_dataset_train.get(b'batch_label')[indx])\n",
    "#Print File Name\n",
    "print(\"File Name: \",cifar_dataset_train.get(b'filenames')[indx])\n",
    "#Print Super Class Name\n",
    "print(cifar_dataset_train.get(b'coarse_labels')[indx])\n",
    "print(cifar_dataset_label.get(b'coarse_label_names')[cifar_dataset_train.get(b'coarse_labels')[indx]])\n",
    "#Print SubClass Name\n",
    "print(cifar_dataset_train.get(b'fine_labels')[indx])\n",
    "print(cifar_dataset_label.get(b'fine_label_names')[cifar_dataset_train.get(b'fine_labels')[indx]])"
   ]
  },
  {
   "cell_type": "markdown",
   "metadata": {},
   "source": [
    "## Data Reshaping and Visualizing"
   ]
  },
  {
   "cell_type": "code",
   "execution_count": 94,
   "metadata": {},
   "outputs": [],
   "source": [
    "def cifar_loaditems(set_idx, item_idx):\n",
    "    if (set_idx == 0): #Training set\n",
    "        #get row of data\n",
    "        data = cifar_dataset_train.get(b'data')[item_idx]\n",
    "        #Super Class Name indx and lable\n",
    "        super_class_idx = cifar_dataset_train.get(b'coarse_labels')[item_idx]\n",
    "        super_class_lbl = cifar_dataset_label.get(b'coarse_label_names')[cifar_dataset_train.get(b'coarse_labels')[item_idx]]\n",
    "        #SubClass Name indx and lable\n",
    "        sub_class_idx = cifar_dataset_train.get(b'fine_labels')[item_idx]\n",
    "        sub_class_lbl = cifar_dataset_label.get(b'fine_label_names')[cifar_dataset_train.get(b'fine_labels')[item_idx]]\n",
    "    elif (set_idx == 1): #Testing set\n",
    "        #get row of data\n",
    "        data = cifar_dataset_test.get(b'data')[indx]\n",
    "        #Super Class Name indx and lable\n",
    "        super_class_idx = cifar_dataset_test.get(b'coarse_labels')[indx]\n",
    "        super_class_lbl = cifar_dataset_label.get(b'coarse_label_names')[cifar_dataset_test.get(b'coarse_labels')[indx]]\n",
    "        #SubClass Name indx and lable\n",
    "        sub_class_idx = cifar_dataset_test.get(b'fine_labels')[indx]\n",
    "        sub_class_lbl = cifar_dataset_label.get(b'fine_label_names')[cifar_dataset_test.get(b'fine_labels')[indx]]\n",
    "\n",
    "    return data, super_class_idx, super_class_lbl, sub_class_idx, sub_class_lbl "
   ]
  },
  {
   "cell_type": "code",
   "execution_count": 95,
   "metadata": {},
   "outputs": [],
   "source": [
    "def load_data():\n",
    "    x_train, y_train = [],[]\n",
    "    x_test, y_test = [],[]\n",
    "    nb_classes = 100\n",
    "    \n",
    "    \n",
    "    for i in range(len(cifar_dataset_train.get(b'data'))):\n",
    "        colored_image, _, _, sub_class_idx, _ = cifar_loaditems(0, i)\n",
    "        x_train.append(colored_image)\n",
    "        y_train.append(sub_class_idx)\n",
    "    \n",
    "    \n",
    "    targets = np.array([y_train]).reshape(-1)\n",
    "    y_train = np.eye(nb_classes)[targets]\n",
    "        \n",
    "    for i in range(len(cifar_dataset_test.get(b'data'))):\n",
    "        colored_image, _, _, sub_class_idx, _ = cifar_loaditems(1, i) \n",
    "        x_test.append(colored_image)\n",
    "        y_test.append(sub_class_idx)\n",
    "        \n",
    "    \n",
    "    targets = np.array([y_test]).reshape(-1)\n",
    "    y_test = np.eye(nb_classes)[targets]\n",
    "        \n",
    "    return (x_train, y_train), (x_test, y_test)\n",
    "    "
   ]
  },
  {
   "cell_type": "code",
   "execution_count": 96,
   "metadata": {},
   "outputs": [],
   "source": [
    "(x_train, y_train), (x_test, y_test) = load_data()"
   ]
  },
  {
   "cell_type": "code",
   "execution_count": 97,
   "metadata": {},
   "outputs": [
    {
     "data": {
      "text/plain": [
       "(array([255, 255, 255, ...,  10,  59,  79], dtype=uint8),\n",
       " (3072,),\n",
       " array([0., 0., 0., 0., 0., 0., 0., 0., 0., 0., 0., 0., 0., 0., 0., 0., 0.,\n",
       "        0., 0., 1., 0., 0., 0., 0., 0., 0., 0., 0., 0., 0., 0., 0., 0., 0.,\n",
       "        0., 0., 0., 0., 0., 0., 0., 0., 0., 0., 0., 0., 0., 0., 0., 0., 0.,\n",
       "        0., 0., 0., 0., 0., 0., 0., 0., 0., 0., 0., 0., 0., 0., 0., 0., 0.,\n",
       "        0., 0., 0., 0., 0., 0., 0., 0., 0., 0., 0., 0., 0., 0., 0., 0., 0.,\n",
       "        0., 0., 0., 0., 0., 0., 0., 0., 0., 0., 0., 0., 0., 0., 0.]),\n",
       " (100,),\n",
       " 50000)"
      ]
     },
     "execution_count": 97,
     "metadata": {},
     "output_type": "execute_result"
    }
   ],
   "source": [
    "x_train[0], x_train[0].shape, y_train[0], y_train[0].shape, len(x_train)"
   ]
  },
  {
   "cell_type": "code",
   "execution_count": 98,
   "metadata": {},
   "outputs": [
    {
     "data": {
      "text/plain": [
       "(array([199, 196, 195, ..., 215, 211, 183], dtype=uint8),\n",
       " (3072,),\n",
       " array([0., 0., 0., 0., 0., 0., 0., 0., 0., 0., 0., 0., 0., 0., 0., 0., 0.,\n",
       "        0., 0., 0., 0., 0., 0., 0., 0., 0., 0., 0., 0., 0., 0., 0., 0., 0.,\n",
       "        0., 0., 0., 0., 0., 0., 0., 0., 0., 0., 0., 0., 0., 0., 0., 1., 0.,\n",
       "        0., 0., 0., 0., 0., 0., 0., 0., 0., 0., 0., 0., 0., 0., 0., 0., 0.,\n",
       "        0., 0., 0., 0., 0., 0., 0., 0., 0., 0., 0., 0., 0., 0., 0., 0., 0.,\n",
       "        0., 0., 0., 0., 0., 0., 0., 0., 0., 0., 0., 0., 0., 0., 0.]),\n",
       " (100,),\n",
       " 10000)"
      ]
     },
     "execution_count": 98,
     "metadata": {},
     "output_type": "execute_result"
    }
   ],
   "source": [
    "x_test[0], x_test[0].shape, y_test[0], y_test[0].shape, len(x_test)"
   ]
  },
  {
   "cell_type": "markdown",
   "metadata": {},
   "source": [
    "# CNN Model"
   ]
  },
  {
   "cell_type": "markdown",
   "metadata": {},
   "source": [
    "### Parameters "
   ]
  },
  {
   "cell_type": "code",
   "execution_count": 99,
   "metadata": {},
   "outputs": [],
   "source": [
    "#Parameters\n",
    "inputsize = 32\n",
    "channels = 3\n",
    "output = 100\n",
    "training_epochs = 100\n",
    "learning_rate = 0.01\n",
    "num_epochs = 100\n",
    "batch_size = 32"
   ]
  },
  {
   "cell_type": "code",
   "execution_count": 100,
   "metadata": {},
   "outputs": [],
   "source": [
    "# Placeholder variable for the input images\n",
    "x = tf.placeholder(tf.float32, shape=[None,inputsize*inputsize*channels])\n",
    "x_image = tf.reshape(x, [-1, inputsize, inputsize, channels])\n",
    "\n",
    "# Placeholder variable for the true labels associated with the images\n",
    "y_true = tf.placeholder(tf.float32, shape=[None,100])\n",
    "y_true_cls = tf.argmax(y_true, dimension=1)\n"
   ]
  },
  {
   "cell_type": "code",
   "execution_count": 101,
   "metadata": {},
   "outputs": [],
   "source": [
    "def new_conv_layer(input, num_input_channels, filter_size, num_filters, name):\n",
    "    \n",
    "    with tf.variable_scope(name) as scope:\n",
    "        # Shape of the filter-weights for the convolution\n",
    "        shape = [filter_size, filter_size, num_input_channels, num_filters]\n",
    "        # Create new weights (filters) with the given shape\n",
    "        weights = tf.Variable(tf.truncated_normal(shape, stddev=0.05))\n",
    "        # Create new biases, one for each filter\n",
    "        biases = tf.Variable(tf.constant(0.05, shape=[num_filters]))\n",
    "        # TensorFlow operation for convolution\n",
    "        layer = tf.nn.conv2d(input=input, filter=weights, strides=[1, 1, 1, 1], padding='SAME')\n",
    "        # Add the biases to the results of the convolution.\n",
    "        layer += biases\n",
    "        return layer, weights"
   ]
  },
  {
   "cell_type": "code",
   "execution_count": 102,
   "metadata": {},
   "outputs": [],
   "source": [
    "def new_pool_layer(input, name):\n",
    "    \n",
    "    with tf.variable_scope(name) as scope:\n",
    "        # TensorFlow operation for convolution\n",
    "        layer = tf.nn.max_pool(value=input, ksize=[1, 2, 2, 1], strides=[1, 2, 2, 1], padding='SAME')\n",
    "        \n",
    "        return layer"
   ]
  },
  {
   "cell_type": "code",
   "execution_count": 103,
   "metadata": {},
   "outputs": [],
   "source": [
    "def new_relu_layer(input, name):\n",
    "    \n",
    "    with tf.variable_scope(name) as scope:\n",
    "        # TensorFlow operation for convolution\n",
    "        layer = tf.nn.relu(input)\n",
    "        \n",
    "        return layer"
   ]
  },
  {
   "cell_type": "code",
   "execution_count": 104,
   "metadata": {},
   "outputs": [],
   "source": [
    "def new_fc_layer(input, num_inputs, num_outputs, name):\n",
    "    \n",
    "    with tf.variable_scope(name) as scope:\n",
    "\n",
    "        # Create new weights and biases.\n",
    "        weights = tf.Variable(tf.truncated_normal([num_inputs, num_outputs], stddev=0.05))\n",
    "        biases = tf.Variable(tf.constant(0.05, shape=[num_outputs]))\n",
    "        \n",
    "        # Multiply the input and weights, and then add the bias-values.\n",
    "        layer = tf.matmul(input, weights) + biases\n",
    "        \n",
    "        return layer , weights"
   ]
  },
  {
   "cell_type": "code",
   "execution_count": 105,
   "metadata": {},
   "outputs": [],
   "source": [
    "# Convolutional Layer 1\n",
    "layer_conv1, weights_conv1 = new_conv_layer(input=x_image, num_input_channels=3,\n",
    "                                            filter_size=3, num_filters=15, name =\"conv1\")\n",
    "# Pooling Layer 1\n",
    "layer_pool1 = new_pool_layer(layer_conv1, name=\"pool1\")\n",
    "# RelU layer 1\n",
    "layer_relu1 = new_relu_layer(layer_pool1, name=\"relu1\") \n",
    "\n",
    "\n",
    "# Convolutional Layer 2\n",
    "layer_conv2, weights_conv2 = new_conv_layer(input=layer_relu1, num_input_channels=15,\n",
    "                                            filter_size=3, num_filters=16, name= \"conv2\")\n",
    "# Pooling Layer 2\n",
    "layer_pool2 = new_pool_layer(layer_conv2, name=\"pool2\")\n",
    "# RelU layer 2\n",
    "layer_relu2 = new_relu_layer(layer_pool2, name=\"relu2\")\n",
    "\n",
    "# Convolutional Layer 2\n",
    "layer_conv2, weights_conv2 = new_conv_layer(input=layer_relu2, num_input_channels=16,\n",
    "                                            filter_size=3, num_filters=26, name= \"conv2\")\n",
    "# Pooling Layer 2\n",
    "layer_pool2 = new_pool_layer(layer_conv2, name=\"pool2\")\n",
    "# RelU layer 2\n",
    "layer_relu2 = new_relu_layer(layer_pool2, name=\"relu2\")\n",
    "\n",
    "\n",
    "# Flatten Layer\n",
    "num_features = layer_relu1.get_shape()[1:4].num_elements()\n",
    "layer_flat = tf.reshape(layer_relu1, [-1, num_features])\n",
    "\n",
    "# Fully-Connected Layer 1\n",
    "layer_fc1, w_fc1 = new_fc_layer(layer_flat, num_inputs=num_features, num_outputs=128, name=\"fc1\")\n",
    "layer_relu3 = new_relu_layer(layer_fc1, name=\"relu3\")\n",
    "\n",
    "layer_fc2, w_fc2 = new_fc_layer(layer_relu3, num_inputs=128, num_outputs=512, name=\"fc2\")\n",
    "layer_relu4 = new_relu_layer(layer_fc2, name=\"relu4\")\n",
    "\n",
    "# Fully-Connected Layer 2\n",
    "layer_fc3, w_fc3 = new_fc_layer(input=layer_relu4, num_inputs=512, num_outputs= 100, name=\"fc3\")"
   ]
  },
  {
   "cell_type": "code",
   "execution_count": 106,
   "metadata": {},
   "outputs": [],
   "source": [
    "\n",
    "# Use Softmax function to normalize the output\n",
    "with tf.variable_scope(\"Softmax\"):\n",
    "    y_pred = tf.nn.softmax(layer_fc3)\n",
    "    y_pred_cls = tf.argmax(y_pred, dimension=1)"
   ]
  },
  {
   "cell_type": "code",
   "execution_count": 107,
   "metadata": {},
   "outputs": [],
   "source": [
    "\n",
    "# Use Cross entropy cost function\n",
    "with tf.name_scope(\"cross_ent\"):\n",
    "    cross_entropy = tf.nn.softmax_cross_entropy_with_logits(logits=layer_fc3, labels=y_true)\n",
    "    cost = tf.reduce_mean(cross_entropy)"
   ]
  },
  {
   "cell_type": "code",
   "execution_count": 108,
   "metadata": {},
   "outputs": [],
   "source": [
    "\n",
    "# Use Adam Optimizer\n",
    "with tf.name_scope(\"optimizer\"):\n",
    "    optimizer = tf.train.AdamOptimizer(learning_rate=1e-4).minimize(cost)"
   ]
  },
  {
   "cell_type": "code",
   "execution_count": 109,
   "metadata": {},
   "outputs": [],
   "source": [
    "# Accuracy\n",
    "with tf.name_scope(\"accuracy\"):\n",
    "    correct_prediction = tf.equal(y_pred_cls, y_true_cls)\n",
    "    accuracy = tf.reduce_mean(tf.cast(correct_prediction, tf.float32))"
   ]
  },
  {
   "cell_type": "code",
   "execution_count": 110,
   "metadata": {},
   "outputs": [],
   "source": [
    "\n",
    "# Initialize the FileWriter\n",
    "writer = tf.summary.FileWriter(\"Training_FileWriter/\")\n",
    "writer1 = tf.summary.FileWriter(\"Validation_FileWriter/\")"
   ]
  },
  {
   "cell_type": "code",
   "execution_count": 111,
   "metadata": {},
   "outputs": [],
   "source": [
    "\n",
    "# Add the cost and accuracy to summary\n",
    "tf.summary.scalar('loss', cost)\n",
    "tf.summary.scalar('accuracy', accuracy)\n",
    "\n",
    "# Merge all summaries together\n",
    "merged_summary = tf.summary.merge_all()"
   ]
  },
  {
   "cell_type": "code",
   "execution_count": 112,
   "metadata": {},
   "outputs": [],
   "source": [
    "num_epochs = 5\n",
    "batch_size = 32\n",
    "finalRepresentations = []"
   ]
  },
  {
   "cell_type": "code",
   "execution_count": 114,
   "metadata": {},
   "outputs": [
    {
     "name": "stderr",
     "output_type": "stream",
     "text": [
      "ERROR:root:Internal Python error in the inspect module.\n",
      "Below is the traceback from this internal error.\n",
      "\n"
     ]
    },
    {
     "name": "stdout",
     "output_type": "stream",
     "text": [
      "Traceback (most recent call last):\n",
      "  File \"/home/mgd-pc/.local/lib/python3.5/site-packages/IPython/core/interactiveshell.py\", line 2963, in run_code\n",
      "    exec(code_obj, self.user_global_ns, self.user_ns)\n",
      "  File \"<ipython-input-114-9b57cfcae814>\", line 33, in <module>\n",
      "    finalRepresentations.append(layer_fc3.eval(session=sess, feed_dict={x:x_test}))\n",
      "  File \"/home/mgd-pc/.local/lib/python3.5/site-packages/tensorflow/python/framework/ops.py\", line 710, in eval\n",
      "    return _eval_using_default_session(self, feed_dict, self.graph, session)\n",
      "  File \"/home/mgd-pc/.local/lib/python3.5/site-packages/tensorflow/python/framework/ops.py\", line 5180, in _eval_using_default_session\n",
      "    return session.run(tensors, feed_dict)\n",
      "  File \"/home/mgd-pc/.local/lib/python3.5/site-packages/tensorflow/python/client/session.py\", line 900, in run\n",
      "    run_metadata_ptr)\n",
      "  File \"/home/mgd-pc/.local/lib/python3.5/site-packages/tensorflow/python/client/session.py\", line 1135, in _run\n",
      "    feed_dict_tensor, options, run_metadata)\n",
      "  File \"/home/mgd-pc/.local/lib/python3.5/site-packages/tensorflow/python/client/session.py\", line 1316, in _do_run\n",
      "    run_metadata)\n",
      "  File \"/home/mgd-pc/.local/lib/python3.5/site-packages/tensorflow/python/client/session.py\", line 1322, in _do_call\n",
      "    return fn(*args)\n",
      "  File \"/home/mgd-pc/.local/lib/python3.5/site-packages/tensorflow/python/client/session.py\", line 1307, in _run_fn\n",
      "    options, feed_dict, fetch_list, target_list, run_metadata)\n",
      "  File \"/home/mgd-pc/.local/lib/python3.5/site-packages/tensorflow/python/client/session.py\", line 1409, in _call_tf_sessionrun\n",
      "    run_metadata)\n",
      "KeyboardInterrupt\n",
      "\n",
      "During handling of the above exception, another exception occurred:\n",
      "\n",
      "Traceback (most recent call last):\n",
      "  File \"/home/mgd-pc/.local/lib/python3.5/site-packages/IPython/core/interactiveshell.py\", line 1863, in showtraceback\n",
      "    stb = value._render_traceback_()\n",
      "AttributeError: 'KeyboardInterrupt' object has no attribute '_render_traceback_'\n",
      "\n",
      "During handling of the above exception, another exception occurred:\n",
      "\n",
      "Traceback (most recent call last):\n",
      "  File \"/home/mgd-pc/.local/lib/python3.5/site-packages/IPython/core/ultratb.py\", line 1095, in get_records\n",
      "    return _fixed_getinnerframes(etb, number_of_lines_of_context, tb_offset)\n",
      "  File \"/home/mgd-pc/.local/lib/python3.5/site-packages/IPython/core/ultratb.py\", line 311, in wrapped\n",
      "    return f(*args, **kwargs)\n",
      "  File \"/home/mgd-pc/.local/lib/python3.5/site-packages/IPython/core/ultratb.py\", line 345, in _fixed_getinnerframes\n",
      "    records = fix_frame_records_filenames(inspect.getinnerframes(etb, context))\n",
      "  File \"/home/mgd-pc/anaconda3/lib/python3.5/inspect.py\", line 1459, in getinnerframes\n",
      "    frameinfo = (tb.tb_frame,) + getframeinfo(tb, context)\n",
      "  File \"/home/mgd-pc/anaconda3/lib/python3.5/inspect.py\", line 1421, in getframeinfo\n",
      "    lines, lnum = findsource(frame)\n",
      "  File \"/home/mgd-pc/.local/lib/python3.5/site-packages/IPython/core/ultratb.py\", line 218, in findsource\n",
      "    pat = re.compile(r'^(\\s*def\\s)|(.*(?<!\\w)lambda(:|\\s))|^(\\s*@)')\n",
      "  File \"/home/mgd-pc/anaconda3/lib/python3.5/re.py\", line 224, in compile\n",
      "    return _compile(pattern, flags)\n",
      "KeyboardInterrupt\n"
     ]
    },
    {
     "ename": "KeyboardInterrupt",
     "evalue": "",
     "output_type": "error",
     "traceback": [
      "\u001b[0;31m---------------------------------------------------------------------------\u001b[0m"
     ]
    }
   ],
   "source": [
    "with tf.Session() as sess:\n",
    "    # Initialize all variables\n",
    "    sess.run(tf.global_variables_initializer())\n",
    "    \n",
    "    # Add the model graph to TensorBoard\n",
    "    writer.add_graph(sess.graph)\n",
    "    \n",
    "    # Loop over number of epochs\n",
    "    for epoch in range(num_epochs):\n",
    "        \n",
    "        start_time = time.time()\n",
    "        train_accuracy = 0\n",
    "        \n",
    "        batch_increamenter = 0\n",
    "        for batch in range(0, int(50000/batch_size)):\n",
    "            \n",
    "            # Get a batch of images and labels\n",
    "            x_batch, y_true_batch = x_train [batch*batch_size:batch*batch_size+batch_size] ,\\\n",
    "                                    y_train [batch*batch_size:batch*batch_size+batch_size]\n",
    "            #targets = np.array([y_true_batch]).reshape(-1)\n",
    "            #y_true_batch = np.eye(2)[targets]\n",
    "            \n",
    "            # Put the batch into a dict with the proper names for placeholder variables\n",
    "            feed_dict_train = {x: x_batch, y_true: y_true_batch}\n",
    "            \n",
    "            # Run the optimizer using this batch of training data.\n",
    "            opt = sess.run(optimizer, feed_dict=feed_dict_train)\n",
    "\n",
    "            # Calculate the accuracy on the batch of training data\n",
    "            #train_accuracy += sess.run(accuracy, feed_dict=feed_dict_train)\n",
    "            \n",
    "            loss, acc = sess.run([cost, accuracy], feed_dict=feed_dict_train)\n",
    "                    \n",
    "            finalRepresentations.append(layer_fc3.eval(session=sess, feed_dict={x:x_test}))\n",
    "\n",
    "            # Generate summary with the current batch of data and write to file\n",
    "            #summ = sess.run(merged_summary, feed_dict=feed_dict_train)\n",
    "            \n",
    "            #writer.add_summary(summ, epoch*int(50000/batch_size) + batch)\n",
    "            \n",
    "            batch_increamenter += 32\n",
    "        \n",
    "        #train_accuracy /= int(50000/batch_size)\n",
    "        print(\"Iter \" + str(epoch) + \", Loss= \" + \\\n",
    "                      \"{:.6f}\".format(loss) + \", Training Accuracy= \" + \\\n",
    "                      \"{:.5f}\".format(acc))\n",
    "        # Generate summary and validate the model on the entire validation set\n",
    "        #print(accuracy)\n",
    "        #summ, vali_accuracy = sess.run([merged_summary, accuracy], feed_dict={x:x_test, y_true:y_test})\n",
    "        test_acc,valid_loss = sess.run([accuracy,cost], feed_dict={x:x_test, y_true:y_test})\n",
    "        #writer1.add_summary(summ, epoch)\n",
    "\n",
    "        end_time = time.time()\n",
    "        print(\"Testing Accuracy:\",\"{:.5f}\".format(test_acc))\n",
    "        '''\n",
    "        print(\"Epoch \"+str(epoch+1)+\" completed : Time usage \"+str(int(end_time-start_time))+\" seconds\")\n",
    "        print(\"\\tAccuracy:\")\n",
    "        print (\"\\t- Training Accuracy:\\t{0:.15f}\".format(train_accuracy))\n",
    "        print (\"\\t- Validation Accuracy:\\t{0:.15f}\".format(vali_accuracy))\n",
    "        '''\n",
    "        "
   ]
  },
  {
   "cell_type": "code",
   "execution_count": 76,
   "metadata": {},
   "outputs": [
    {
     "data": {
      "text/plain": [
       "(array([0., 0., 0., 0., 0., 0., 0., 0., 0., 0., 0., 0., 0., 0., 0., 0., 0.,\n",
       "        0., 0., 0., 0., 0., 0., 0., 0., 0., 0., 0., 0., 0., 0., 0., 0., 0.,\n",
       "        0., 0., 0., 0., 0., 0., 0., 0., 0., 0., 0., 0., 0., 0., 0., 1., 0.,\n",
       "        0., 0., 0., 0., 0., 0., 0., 0., 0., 0., 0., 0., 0., 0., 0., 0., 0.,\n",
       "        0., 0., 0., 0., 0., 0., 0., 0., 0., 0., 0., 0., 0., 0., 0., 0., 0.,\n",
       "        0., 0., 0., 0., 0., 0., 0., 0., 0., 0., 0., 0., 0., 0., 0.]),\n",
       " array([0., 0., 0., 0., 0., 0., 0., 0., 0., 0., 0., 0., 0., 0., 0., 0., 0.,\n",
       "        0., 0., 0., 0., 0., 0., 0., 0., 0., 0., 0., 0., 0., 0., 0., 0., 0.,\n",
       "        0., 0., 0., 0., 0., 0., 0., 0., 0., 0., 0., 0., 0., 0., 0., 1., 0.,\n",
       "        0., 0., 0., 0., 0., 0., 0., 0., 0., 0., 0., 0., 0., 0., 0., 0., 0.,\n",
       "        0., 0., 0., 0., 0., 0., 0., 0., 0., 0., 0., 0., 0., 0., 0., 0., 0.,\n",
       "        0., 0., 0., 0., 0., 0., 0., 0., 0., 0., 0., 0., 0., 0., 0.]))"
      ]
     },
     "execution_count": 76,
     "metadata": {},
     "output_type": "execute_result"
    }
   ],
   "source": [
    "y_test[0] , y_test[1]"
   ]
  },
  {
   "cell_type": "code",
   "execution_count": 45,
   "metadata": {},
   "outputs": [],
   "source": [
    "testY = np.argmax(y_test,1)"
   ]
  },
  {
   "cell_type": "code",
   "execution_count": 79,
   "metadata": {},
   "outputs": [],
   "source": [
    "with tf.Session() as sess:\n",
    "    # Initialize all variables\n",
    "    sess.run(tf.global_variables_initializer())\n",
    "    \n",
    "    finalWs = w_fc3.eval(session=sess)"
   ]
  },
  {
   "cell_type": "code",
   "execution_count": 80,
   "metadata": {},
   "outputs": [
    {
     "data": {
      "text/plain": [
       "array([[-0.0185761 ,  0.01073484, -0.01115475, ..., -0.04213686,\n",
       "         0.01272609,  0.01810141],\n",
       "       [-0.01783766,  0.05527231,  0.03174054, ...,  0.01085515,\n",
       "        -0.02038305, -0.02443215],\n",
       "       [ 0.08909698, -0.06816155,  0.03369952, ...,  0.03263411,\n",
       "        -0.01210842, -0.05071253],\n",
       "       ...,\n",
       "       [-0.04095953,  0.03151746,  0.05138552, ..., -0.05310227,\n",
       "        -0.00199248, -0.09159435],\n",
       "       [-0.07287268,  0.01885913,  0.04408858, ...,  0.08542561,\n",
       "        -0.03071624, -0.04785557],\n",
       "       [ 0.00595636,  0.05896852, -0.04212232, ...,  0.02742238,\n",
       "         0.0443393 , -0.05137293]], dtype=float32)"
      ]
     },
     "execution_count": 80,
     "metadata": {},
     "output_type": "execute_result"
    }
   ],
   "source": [
    "finalWs"
   ]
  },
  {
   "cell_type": "code",
   "execution_count": 81,
   "metadata": {},
   "outputs": [],
   "source": [
    "def plot_with_labels(lowDWeights, labels, filename='tsne.png'):\n",
    "    assert lowDWeights.shape[0] >= len(labels), \"More labels than weights\"\n",
    "    plt.figure(figsize=(20, 20))  #in inches\n",
    "    for i, label in enumerate(labels):\n",
    "        x, y = lowDWeights[i,:]\n",
    "        plt.scatter(x, y)\n",
    "        plt.annotate(label,\n",
    "                 xy=(x, y),\n",
    "                 xytext=(5, 2),\n",
    "                 textcoords='offset points',\n",
    "                 ha='right',\n",
    "                 va='bottom')\n",
    "\n",
    "    plt.savefig(filename)"
   ]
  },
  {
   "cell_type": "code",
   "execution_count": 85,
   "metadata": {},
   "outputs": [
    {
     "data": {
      "image/png": "[encoded data removed]",
      "text/plain": [
       "<matplotlib.figure.Figure at 0x7ff416cb6cf8>"
      ]
     },
     "metadata": {},
     "output_type": "display_data"
    }
   ],
   "source": [
    "tsne = TSNE(perplexity=30, n_components=2, init='pca', n_iter=5000)\n",
    "plot_only = 6\n",
    "lowDWeights = tsne.fit_transform(finalWs)\n",
    "labels = [i for i in range(0,100)]\n",
    "plot_with_labels(lowDWeights, labels)"
   ]
  },
  {
   "cell_type": "code",
   "execution_count": 86,
   "metadata": {},
   "outputs": [
    {
     "ename": "NameError",
     "evalue": "name 'finalRepresentations' is not defined",
     "output_type": "error",
     "traceback": [
      "\u001b[0;31m---------------------------------------------------------------------------\u001b[0m",
      "\u001b[0;31mNameError\u001b[0m                                 Traceback (most recent call last)",
      "\u001b[0;32m<ipython-input-86-32626da1c165>\u001b[0m in \u001b[0;36m<module>\u001b[0;34m()\u001b[0m\n\u001b[1;32m      1\u001b[0m \u001b[0miters\u001b[0m \u001b[0;34m=\u001b[0m \u001b[0;36m0\u001b[0m\u001b[0;34m\u001b[0m\u001b[0m\n\u001b[0;32m----> 2\u001b[0;31m \u001b[0;32mfor\u001b[0m \u001b[0mi\u001b[0m \u001b[0;32min\u001b[0m \u001b[0mfinalRepresentations\u001b[0m\u001b[0;34m:\u001b[0m\u001b[0;34m\u001b[0m\u001b[0m\n\u001b[0m\u001b[1;32m      3\u001b[0m     \u001b[0mtsne\u001b[0m \u001b[0;34m=\u001b[0m \u001b[0mTSNE\u001b[0m\u001b[0;34m(\u001b[0m\u001b[0mperplexity\u001b[0m\u001b[0;34m=\u001b[0m\u001b[0;36m50\u001b[0m\u001b[0;34m,\u001b[0m \u001b[0mn_components\u001b[0m\u001b[0;34m=\u001b[0m\u001b[0;36m2\u001b[0m\u001b[0;34m,\u001b[0m \u001b[0minit\u001b[0m\u001b[0;34m=\u001b[0m\u001b[0;34m'pca'\u001b[0m\u001b[0;34m,\u001b[0m \u001b[0mn_iter\u001b[0m\u001b[0;34m=\u001b[0m\u001b[0;36m5000\u001b[0m\u001b[0;34m)\u001b[0m\u001b[0;34m\u001b[0m\u001b[0m\n\u001b[1;32m      4\u001b[0m     \u001b[0mplot_only\u001b[0m \u001b[0;34m=\u001b[0m \u001b[0;36m2000\u001b[0m\u001b[0;34m\u001b[0m\u001b[0m\n\u001b[1;32m      5\u001b[0m     \u001b[0mlowDWeights\u001b[0m \u001b[0;34m=\u001b[0m \u001b[0mtsne\u001b[0m\u001b[0;34m.\u001b[0m\u001b[0mfit_transform\u001b[0m\u001b[0;34m(\u001b[0m\u001b[0mi\u001b[0m\u001b[0;34m[\u001b[0m\u001b[0;36m0\u001b[0m\u001b[0;34m:\u001b[0m\u001b[0mplot_only\u001b[0m\u001b[0;34m,\u001b[0m\u001b[0;34m:\u001b[0m\u001b[0;34m]\u001b[0m\u001b[0;34m)\u001b[0m\u001b[0;34m\u001b[0m\u001b[0m\n",
      "\u001b[0;31mNameError\u001b[0m: name 'finalRepresentations' is not defined"
     ]
    }
   ],
   "source": [
    "iters = 0\n",
    "for i in finalRepresentations:\n",
    "    tsne = TSNE(perplexity=50, n_components=2, init='pca', n_iter=5000)\n",
    "    plot_only = 2000\n",
    "    lowDWeights = tsne.fit_transform(i[0:plot_only,:])\n",
    "    labels = testY[0:plot_only]\n",
    "    plot_with_labels(lowDWeights, labels, str(iters*100)+'.png')\n",
    "    iters+=1"
   ]
  },
  {
   "cell_type": "code",
   "execution_count": null,
   "metadata": {},
   "outputs": [],
   "source": [
    "#save_path = saver.save(sess, \"./my_fashion_model\")"
   ]
  },
  {
   "cell_type": "code",
   "execution_count": null,
   "metadata": {},
   "outputs": [],
   "source": [
    "'''\n",
    "import matplotlib.pyplot as plt\n",
    "import tensorflow as tf\n",
    "import pandas as pd\n",
    "import numpy as np\n",
    "from sklearn.metrics import confusion_matrix\n",
    "import time\n",
    "from datetime import timedelta\n",
    "import math\n",
    "import dataset\n",
    "import random\n",
    "\n",
    "# Define parameters\n",
    "FLAGS = tf.app.flags.FLAGS\n",
    "tf.app.flags.DEFINE_float('learning_rate', 0.00003, 'Initial learning rate.')\n",
    "tf.app.flags.DEFINE_integer('steps_to_validate', 1000,\n",
    "                            'Steps to validate and print loss')\n",
    "\n",
    "# For distributed\n",
    "tf.app.flags.DEFINE_string(\"ps_hosts\", \"\",\n",
    "                           \"Comma-separated list of hostname:port pairs\")\n",
    "tf.app.flags.DEFINE_string(\"worker_hosts\", \"\",\n",
    "                           \"Comma-separated list of hostname:port pairs\")\n",
    "tf.app.flags.DEFINE_string(\"job_name\", \"\", \"One of 'ps', 'worker'\")\n",
    "tf.app.flags.DEFINE_integer(\"task_index\", 0, \"Index of task within the job\")\n",
    "tf.app.flags.DEFINE_integer(\"issync\", 0, \"issync mode\")\n",
    "\n",
    "# Convolutional Layer 1.\n",
    "filter_size1 = 3\n",
    "num_filters1 = 32\n",
    "\n",
    "# Convolutional Layer 2.\n",
    "filter_size2 = 3\n",
    "num_filters2 = 32\n",
    "\n",
    "# Convolutional Layer 3.\n",
    "filter_size3 = 3\n",
    "num_filters3 = 64\n",
    "\n",
    "# Fully-connected layer.\n",
    "fc_size = 128             # Number of neurons in fully-connected layer.\n",
    "\n",
    "# Number of color channels for the images: 1 channel for gray-scale.\n",
    "num_channels = 3\n",
    "\n",
    "# image dimensions (only squares for now)\n",
    "img_size = 128\n",
    "\n",
    "# Size of image when flattened to a single dimension\n",
    "img_size_flat = img_size * img_size * num_channels\n",
    "\n",
    "# Tuple with height and width of images used to reshape arrays.\n",
    "img_shape = (img_size, img_size)\n",
    "\n",
    "# class info\n",
    "classes = ['dog', 'cat']\n",
    "num_classes = len(classes)\n",
    "\n",
    "# batch size\n",
    "batch_size = 128 \n",
    "\n",
    "# validation split\n",
    "validation_size = .2\n",
    "\n",
    "# how long to wait after validation loss stops improving before\n",
    "# terminating training\n",
    "early_stopping = None  # use None if you don't want to implement early stoping\n",
    "\n",
    "train_path = './cat_dog/train'\n",
    "test_path = './cat_dog/test1'\n",
    "checkpoint_dir = \".\"\n",
    "\n",
    "data = dataset.read_train_sets(\n",
    "    train_path,\n",
    "    img_size,\n",
    "    classes,\n",
    "     validation_size=validation_size)\n",
    "test_images, test_ids = dataset.read_test_set(test_path, img_size)\n",
    "# Counter for total number of iterations performed so far.\n",
    "total_iterations = 0\n",
    "\n",
    "\n",
    "print(\"Size of:\")\n",
    "print(\"- Training-set:\\t\\t{}\".format(len(data.train.labels)))\n",
    "print(\"- Test-set:\\t\\t{}\".format(len(test_images)))\n",
    "print(\"- Validation-set:\\t{}\".format(len(data.valid.labels)))\n",
    "\n",
    "\n",
    "def new_weights(shape):\n",
    "    return tf.Variable(tf.truncated_normal(shape, stddev=0.05))\n",
    "\n",
    "\n",
    "def new_biases(length):\n",
    "    return tf.Variable(tf.constant(0.05, shape=[length]))\n",
    "\n",
    "\n",
    "def new_conv_layer(input,              # The previous layer.\n",
    "                   num_input_channels,  # Num. channels in prev. layer.\n",
    "                   filter_size,        # Width and height of each filter.\n",
    "                   num_filters,        # Number of filters.\n",
    "                   use_pooling=True):  # Use 2x2 max-pooling.\n",
    "\n",
    "    # Shape of the filter-weights for the convolution.\n",
    "    # This format is determined by the TensorFlow API.\n",
    "    shape = [filter_size, filter_size, num_input_channels, num_filters]\n",
    "\n",
    "    # Create new weights aka. filters with the given shape.\n",
    "    weights = new_weights(shape=shape)\n",
    "\n",
    "    # Create new biases, one for each filter.\n",
    "    biases = new_biases(length=num_filters)\n",
    "\n",
    "    # Create the TensorFlow operation for convolution.\n",
    "    # Note the strides are set to 1 in all dimensions.\n",
    "    # The first and last stride must always be 1,\n",
    "    # because the first is for the image-number and\n",
    "    # the last is for the input-channel.\n",
    "    # But e.g. strides=[1, 2, 2, 1] would mean that the filter\n",
    "    # is moved 2 pixels across the x- and y-axis of the image.\n",
    "    # The padding is set to 'SAME' which means the input image\n",
    "    # is padded with zeroes so the size of the output is the same.\n",
    "    layer = tf.nn.conv2d(input=input,\n",
    "                         filter=weights,\n",
    "                         strides=[1, 1, 1, 1],\n",
    "                         padding='SAME')\n",
    "\n",
    "    # Add the biases to the results of the convolution.\n",
    "    # A bias-value is added to each filter-channel.\n",
    "    layer += biases\n",
    "\n",
    "    # Use pooling to down-sample the image resolution?\n",
    "    if use_pooling:\n",
    "        # This is 2x2 max-pooling, which means that we\n",
    "        # consider 2x2 windows and select the largest value\n",
    "        # in each window. Then we move 2 pixels to the next window.\n",
    "        layer = tf.nn.max_pool(value=layer,\n",
    "                               ksize=[1, 2, 2, 1],\n",
    "                               strides=[1, 2, 2, 1],\n",
    "                               padding='SAME')\n",
    "\n",
    "    # Rectified Linear Unit (ReLU).\n",
    "    # It calculates max(x, 0) for each input pixel x.\n",
    "    # This adds some non-linearity to the formula and allows us\n",
    "    # to learn more complicated functions.\n",
    "    layer = tf.nn.relu(layer)\n",
    "\n",
    "    # Note that ReLU is normally executed before the pooling,\n",
    "    # but since relu(max_pool(x)) == max_pool(relu(x)) we can\n",
    "    # save 75% of the relu-operations by max-pooling first.\n",
    "\n",
    "    # We return both the resulting layer and the filter-weights\n",
    "    # because we will plot the weights later.\n",
    "    return layer, weights\n",
    "\n",
    "\n",
    "def flatten_layer(layer):\n",
    "    # Get the shape of the input layer.\n",
    "    layer_shape = layer.get_shape()\n",
    "\n",
    "    # The shape of the input layer is assumed to be:\n",
    "    # layer_shape == [num_images, img_height, img_width, num_channels]\n",
    "\n",
    "    # The number of features is: img_height * img_width * num_channels\n",
    "    # We can use a function from TensorFlow to calculate this.\n",
    "    num_features = layer_shape[1:4].num_elements()\n",
    "\n",
    "    # Reshape the layer to [num_images, num_features].\n",
    "    # Note that we just set the size of the second dimension\n",
    "    # to num_features and the size of the first dimension to -1\n",
    "    # which means the size in that dimension is calculated\n",
    "    # so the total size of the tensor is unchanged from the reshaping.\n",
    "    layer_flat = tf.reshape(layer, [-1, num_features])\n",
    "\n",
    "    # The shape of the flattened layer is now:\n",
    "    # [num_images, img_height * img_width * num_channels]\n",
    "\n",
    "    # Return both the flattened layer and the number of features.\n",
    "    return layer_flat, num_features\n",
    "\n",
    "\n",
    "def new_fc_layer(input,          # The previous layer.\n",
    "                 num_inputs,     # Num. inputs from prev. layer.\n",
    "                 num_outputs,    # Num. outputs.\n",
    "                 use_relu=True):  # Use Rectified Linear Unit (ReLU)?\n",
    "\n",
    "    # Create new weights and biases.\n",
    "    weights = new_weights(shape=[num_inputs, num_outputs])\n",
    "    biases = new_biases(length=num_outputs)\n",
    "\n",
    "    # Calculate the layer as the matrix multiplication of\n",
    "    # the input and weights, and then add the bias-values.\n",
    "    layer = tf.matmul(input, weights) + biases\n",
    "\n",
    "    # Use ReLU?\n",
    "    if use_relu:\n",
    "        layer = tf.nn.relu(layer)\n",
    "\n",
    "    return layer\n",
    "\n",
    "\n",
    "def main(_):\n",
    "    ps_hosts = FLAGS.ps_hosts.split(\",\")\n",
    "    worker_hosts = FLAGS.worker_hosts.split(\",\")\n",
    "    cluster = tf.train.ClusterSpec({\"ps\": ps_hosts, \"worker\": worker_hosts})\n",
    "    server = tf.train.Server(\n",
    "        cluster,\n",
    "        job_name=FLAGS.job_name,\n",
    "     task_index=FLAGS.task_index)\n",
    "\n",
    "    if FLAGS.job_name == \"ps\":\n",
    "        server.join()\n",
    "    elif FLAGS.job_name == \"worker\":\n",
    "        with tf.device(tf.train.replica_device_setter(\n",
    "                        worker_device=\"/job:worker/task:%d\" % FLAGS.task_index,\n",
    "                        cluster=cluster)):\n",
    "\n",
    "            global_step = tf.Variable(0, name='global_step', trainable=False)\n",
    "            x = tf.placeholder(\n",
    "                tf.float32, shape=[\n",
    "                    None, img_size_flat], name='x')\n",
    "            x_image = tf.reshape(x, [-1, img_size, img_size, num_channels])\n",
    "            y_true = tf.placeholder(\n",
    "                tf.float32, shape=[\n",
    "                    None, num_classes], name='y_true')\n",
    "            y_true_cls = tf.argmax(y_true, dimension=1)\n",
    "\n",
    "            layer_conv1, weights_conv1 = \\\n",
    "                new_conv_layer(input=x_image,\n",
    "                               num_input_channels=num_channels,\n",
    "                               filter_size=filter_size1,\n",
    "                               num_filters=num_filters1,\n",
    "                               use_pooling=True)\n",
    "\n",
    "            layer_conv2, weights_conv2 = \\\n",
    "                new_conv_layer(input=layer_conv1,\n",
    "                               num_input_channels=num_filters1,\n",
    "                               filter_size=filter_size2,\n",
    "                               num_filters=num_filters2,\n",
    "                               use_pooling=True)\n",
    "\n",
    "            layer_conv3, weights_conv3 = \\\n",
    "                new_conv_layer(input=layer_conv2,\n",
    "                               num_input_channels=num_filters2,\n",
    "                               filter_size=filter_size3,\n",
    "                               num_filters=num_filters3,\n",
    "                               use_pooling=True)\n",
    "\n",
    "            layer_flat, num_features = flatten_layer(layer_conv3)\n",
    "\n",
    "            layer_fc1 = new_fc_layer(input=layer_flat,\n",
    "                                     num_inputs=num_features,\n",
    "                                     num_outputs=fc_size,\n",
    "                                     use_relu=True)\n",
    "            layer_fc2 = new_fc_layer(input=layer_fc1,\n",
    "                                     num_inputs=fc_size,\n",
    "                                     num_outputs=num_classes,\n",
    "                                     use_relu=False)\n",
    "            y_pred = tf.nn.softmax(layer_fc2)\n",
    "            y_pred_cls = tf.argmax(y_pred, dimension=1, name=\"y_pred_cls\")\n",
    "            cross_entropy = tf.nn.softmax_cross_entropy_with_logits( logits=layer_fc2, labels=y_true)\n",
    "            cost = tf.reduce_mean(cross_entropy)\n",
    "            #optimizer = tf.train.AdamOptimizer(\n",
    "            #    learning_rate=1e-4).minimize(cost)\n",
    "            optimizer = tf.train.AdamOptimizer(\n",
    "                learning_rate=1e-4)\n",
    "            grads_and_vars = optimizer.compute_gradients(cost)\n",
    "            correct_prediction = tf.equal(y_pred_cls, y_true_cls)\n",
    "            accuracy = tf.reduce_mean(tf.cast(correct_prediction, tf.float32))\n",
    "\n",
    "            rep_op = tf.train.SyncReplicasOptimizer(optimizer,\n",
    "                                                    replicas_to_aggregate=len(\n",
    "                                                    worker_hosts),\n",
    "                                                    #replica_id=FLAGS.task_index,\n",
    "                                                    total_num_replicas=len(\n",
    "                                                    worker_hosts),\n",
    "                                                    use_locking=True)\n",
    "            train_op = rep_op.apply_gradients(grads_and_vars,\n",
    "                                        global_step=global_step)\n",
    "            init_token_op = rep_op.get_init_tokens_op()\n",
    "            chief_queue_runner = rep_op.get_chief_queue_runner()\n",
    "\n",
    "\n",
    "            init_op = tf.initialize_all_variables()\n",
    "            saver = tf.train.Saver()\n",
    "            train_batch_size = batch_size\n",
    "\n",
    "        sv = tf.train.Supervisor(is_chief=(FLAGS.task_index == 0),\n",
    "                                    logdir=\"./checkpoint/\",\n",
    "                                    init_op=init_op,\n",
    "                                    summary_op=None,\n",
    "                                    saver=saver,\n",
    "                                    global_step=global_step,\n",
    "                                    save_model_secs=60)\n",
    "        session = sv.prepare_or_wait_for_session(server.target)\n",
    "        #session.run(tf.global_variables_initializer())\n",
    "\n",
    "        sv.start_queue_runners(session, [chief_queue_runner])\n",
    "        session.run(init_token_op)\n",
    "\n",
    "    def print_progress(\n",
    "        epoch,\n",
    "        feed_dict_train,\n",
    "        feed_dict_validate,\n",
    "        val_loss,\n",
    "     saver):\n",
    "        # Calculate the accuracy on the training-set.\n",
    "        acc = session.run(accuracy, feed_dict=feed_dict_train)\n",
    "        val_acc = session.run(accuracy, feed_dict=feed_dict_validate)\n",
    "        #val_acc_total = session.run(accuracy, feed_dict=feed_dict_validate_total)\n",
    "        msg = \"Epoch {0} --- Training Accuracy: {1:>6.1%}, Validation Accuracy: {2:>6.1%}, Validation Loss: {3:.3f}\"\n",
    "        #msg1 = \"Epoch {0} --- Total test Accuracy: {1:>6.1%}\"\n",
    "        print(msg.format(epoch + 1, acc, val_acc, val_loss))\n",
    "        #print(msg1.format(epoch + 1, val_acc_total))\n",
    "        #saver.save(session, './backup.chk')\n",
    "\n",
    "    def optimize(num_iterations, saver):\n",
    "        # Ensure we update the global variable rather than a local copy.\n",
    "        global total_iterations\n",
    "\n",
    "        # Start-time used for printing time-usage below.\n",
    "        start_time = time.time()\n",
    "\n",
    "        best_val_loss = float(\"inf\")\n",
    "        patience = 0\n",
    "\n",
    "        for i in range(total_iterations,\n",
    "                       total_iterations + num_iterations):\n",
    "\n",
    "            # Get a batch of training examples.\n",
    "            # x_batch now holds a batch of images and\n",
    "            # y_true_batch are the true labels for those images.\n",
    "            x_batch, y_true_batch, _, cls_batch = data.train.next_batch(\n",
    "                                                                        train_batch_size)\n",
    "            x_valid_batch, y_valid_batch, _, valid_cls_batch = data.valid.next_batch(\n",
    "                train_batch_size)\n",
    "\n",
    "            # Convert shape from [num examples, rows, columns, depth]\n",
    "            # to [num examples, flattened image shape]\n",
    "\n",
    "            x_batch = x_batch.reshape(train_batch_size, img_size_flat)\n",
    "            x_valid_batch = x_valid_batch.reshape(\n",
    "                train_batch_size, img_size_flat)\n",
    "\n",
    "            # Put the batch into a dict with the proper names\n",
    "            # for placeholder variables in the TensorFlow graph.\n",
    "            feed_dict_train = {x: x_batch,\n",
    "                               y_true: y_true_batch}\n",
    "\n",
    "            feed_dict_validate = {x: x_valid_batch,\n",
    "                                  y_true: y_valid_batch}\n",
    "\n",
    "            images_test_total = data.valid.images[:, :].reshape(\n",
    "                data.valid.images[:, :].shape[0], img_size_flat)\n",
    "            labels_total = data.valid.labels[:, :]\n",
    "            # feed_dict_validate_total = {x: images_test_total,\n",
    "            #\t\t\t      y_true: labels_total}\n",
    "\n",
    "            # Run the optimizer using this batch of training data.\n",
    "            # TensorFlow assigns the variables in feed_dict_train\n",
    "            # to the placeholder variables and then runs the optimizer.\n",
    "            #session.run(optimizer, feed_dict=feed_dict_train)\n",
    "            session.run([train_op, cost, global_step], feed_dict=feed_dict_train)\n",
    "\n",
    "            # Print status at end of each epoch (defined as full pass through\n",
    "            # training dataset).\n",
    "            if i % int(data.train.num_examples/batch_size) == 0:\n",
    "                val_loss = session.run(cost, feed_dict=feed_dict_validate)\n",
    "                epoch = int(i / int(data.train.num_examples/batch_size))\n",
    "\n",
    "                print_progress(\n",
    "                    epoch,\n",
    "                    feed_dict_train,\n",
    "                    feed_dict_validate,\n",
    "                    val_loss,\n",
    "                    saver)\n",
    "                # print_validation_accuracy()\n",
    "\n",
    "                if early_stopping:\n",
    "                    if val_loss < best_val_loss:\n",
    "                        best_val_loss = val_loss\n",
    "                        patience = 0\n",
    "                    else:\n",
    "                        patience += 1\n",
    "\n",
    "                    if patience == early_stopping:\n",
    "                        break\n",
    "\n",
    "        # Update the total number of iterations performed.\n",
    "        total_iterations += num_iterations\n",
    "\n",
    "        # Ending time.\n",
    "        end_time = time.time()\n",
    "\n",
    "        # Difference between start and end-times.\n",
    "        time_dif = end_time - start_time\n",
    "\n",
    "        # Print the time-usage.\n",
    "        print(\"Time elapsed: \" + str(timedelta(seconds=int(round(time_dif)))))\n",
    "\n",
    "    def plot_example_errors(cls_pred, correct):\n",
    "        # cls_pred is an array of the predicted class-number for\n",
    "        # all images in the test-set.\n",
    "\n",
    "        # correct is a boolean array whether the predicted class\n",
    "        # is equal to the true class for each image in the test-set.\n",
    "\n",
    "        # Negate the boolean array.\n",
    "        incorrect = (correct == False)\n",
    "\n",
    "        # Get the images from the test-set that have been\n",
    "        # incorrectly classified.\n",
    "        images = data.valid.images[incorrect]\n",
    "\n",
    "        # Get the predicted classes for those images.\n",
    "        cls_pred = cls_pred[incorrect]\n",
    "\n",
    "        # Get the true classes for those images.\n",
    "        cls_true = data.valid.cls[incorrect]\n",
    "\n",
    "        # Plot the first 9 images.\n",
    "        plot_images(images=images[0:9],\n",
    "                    cls_true=cls_true[0:9],\n",
    "                    cls_pred=cls_pred[0:9])\n",
    "\n",
    "    def plot_confusion_matrix(cls_pred):\n",
    "        # cls_pred is an array of the predicted class-number for\n",
    "        # all images in the test-set.\n",
    "\n",
    "        # Get the true classifications for the test-set.\n",
    "        cls_true = data.valid.cls\n",
    "\n",
    "        # Get the confusion matrix using sklearn.\n",
    "        cm = confusion_matrix(y_true=cls_true,\n",
    "                              y_pred=cls_pred)\n",
    "\n",
    "        # Print the confusion matrix as text.\n",
    "        print(cm)\n",
    "\n",
    "        # Plot the confusion matrix as an image.\n",
    "        plt.matshow(cm)\n",
    "\n",
    "        # Make various adjustments to the plot.\n",
    "        plt.colorbar()\n",
    "        tick_marks = np.arange(num_classes)\n",
    "        plt.xticks(tick_marks, range(num_classes))\n",
    "        plt.yticks(tick_marks, range(num_classes))\n",
    "        plt.xlabel('Predicted')\n",
    "        plt.ylabel('True')\n",
    "\n",
    "        # Ensure the plot is shown correctly with multiple plots\n",
    "        # in a single Notebook cell.\n",
    "        plt.show()\n",
    "\n",
    "    #x_val = tf.placeholder(tf.float32, shape=[None, img_size_flat], name='x_val')\n",
    "    #y_true_val = tf.placeholder(tf.float32, shape=[None, num_classes], name='y_true_val')\n",
    "\n",
    "    def print_validation_accuracy(show_example_errors=False,\n",
    "                                  show_confusion_matrix=False):\n",
    "\n",
    "        #global x\n",
    "        #global y_true\n",
    "        #global session\n",
    "        # Number of images in the test-set.\n",
    "        num_test = len(data.valid.images)\n",
    "\n",
    "        # Allocate an array for the predicted classes which\n",
    "        # will be calculated in batches and filled into this array.\n",
    "        cls_pred = np.zeros(shape=num_test, dtype=np.int)\n",
    "\n",
    "        # Now calculate the predicted classes for the batches.\n",
    "        # We will just iterate through all the batches.\n",
    "        # There might be a more clever and Pythonic way of doing this.\n",
    "\n",
    "        # The starting index for the next batch is denoted i.\n",
    "        i = 0\n",
    "\n",
    "        while i < num_test:\n",
    "            # The ending index for the next batch is denoted j.\n",
    "            j = min(i + batch_size, num_test)\n",
    "\n",
    "            #import ipdb ; ipdb.set_trace()\n",
    "            # Get the images from the test-set between index i and j.\n",
    "            reshape_size = batch_size\n",
    "            if data.valid.images[i:j, :].shape[0] < reshape_size:\n",
    "                reshape_size = data.valid.images[i:j, :].shape[0]\n",
    "            try:\n",
    "                images = data.valid.images[\n",
    "                    i: j, :].reshape(\n",
    "                    reshape_size, img_size_flat)\n",
    "            except:\n",
    "                print i\n",
    "                print j\n",
    "                print data.valid.images[i:j, :].shape\n",
    "                print batch_size\n",
    "                print img_size_flat\n",
    "\n",
    "            # Get the associated labels.\n",
    "            labels = data.valid.labels[i:j, :]\n",
    "            # Create a feed-dict with these images and labels.\n",
    "            feed_dict = {x: images,\n",
    "                         y_true: labels}\n",
    "\n",
    "            # Calculate the predicted class using TensorFlow.\n",
    "            cls_pred[i:j] = session.run(y_pred_cls, feed_dict=feed_dict)\n",
    "\n",
    "            # Set the start-index for the next batch to the\n",
    "            # end-index of the current batch.\n",
    "            i = j\n",
    "\n",
    "        cls_true = np.array(data.valid.cls)\n",
    "        cls_pred = np.array([classes[x] for x in cls_pred])\n",
    "\n",
    "        # Create a boolean array whether each image is correctly classified.\n",
    "        correct = (cls_true == cls_pred)\n",
    "\n",
    "        # Calculate the number of correctly classified images.\n",
    "        # When summing a boolean array, False means 0 and True means 1.\n",
    "        correct_sum = correct.sum()\n",
    "\n",
    "        # Classification accuracy is the number of correctly classified\n",
    "        # images divided by the total number of images in the test-set.\n",
    "        acc = float(correct_sum) / num_test\n",
    "\n",
    "        # Print the accuracy.\n",
    "        msg = \"Accuracy on Test-Set: {0:.1%} ({1} / {2})\"\n",
    "        print(msg.format(acc, correct_sum, num_test))\n",
    "\n",
    "        # Plot some examples of mis-classifications, if desired.\n",
    "        if show_example_errors:\n",
    "            print(\"Example errors:\")\n",
    "            plot_example_errors(cls_pred=cls_pred, correct=correct)\n",
    "\n",
    "        # Plot the confusion matrix, if desired.\n",
    "        if show_confusion_matrix:\n",
    "            print(\"Confusion Matrix:\")\n",
    "            plot_confusion_matrix(cls_pred=cls_pred)\n",
    "\n",
    "    optimize(num_iterations=10000, saver=saver)\n",
    "\n",
    "    # print_validation_accuracy()\n",
    "\n",
    "if __name__ == \"__main__\":\n",
    "    tf.app.run()\n",
    "    \n",
    "'''"
   ]
  },
  {
   "cell_type": "code",
   "execution_count": 29,
   "metadata": {},
   "outputs": [],
   "source": [
    "from tensorflow.examples.tutorials.mnist import input_data"
   ]
  },
  {
   "cell_type": "code",
   "execution_count": 30,
   "metadata": {},
   "outputs": [
    {
     "name": "stdout",
     "output_type": "stream",
     "text": [
      "WARNING:tensorflow:From <ipython-input-30-c16302e8c919>:1: read_data_sets (from tensorflow.contrib.learn.python.learn.datasets.mnist) is deprecated and will be removed in a future version.\n",
      "Instructions for updating:\n",
      "Please use alternatives such as official/mnist/dataset.py from tensorflow/models.\n",
      "WARNING:tensorflow:From /home/mgd-pc/.local/lib/python3.5/site-packages/tensorflow/contrib/learn/python/learn/datasets/mnist.py:260: maybe_download (from tensorflow.contrib.learn.python.learn.datasets.base) is deprecated and will be removed in a future version.\n",
      "Instructions for updating:\n",
      "Please write your own downloading logic.\n",
      "WARNING:tensorflow:From /home/mgd-pc/.local/lib/python3.5/site-packages/tensorflow/contrib/learn/python/learn/datasets/mnist.py:262: extract_images (from tensorflow.contrib.learn.python.learn.datasets.mnist) is deprecated and will be removed in a future version.\n",
      "Instructions for updating:\n",
      "Please use tf.data to implement this functionality.\n",
      "Extracting data/fashion/train-images-idx3-ubyte.gz\n",
      "WARNING:tensorflow:From /home/mgd-pc/.local/lib/python3.5/site-packages/tensorflow/contrib/learn/python/learn/datasets/mnist.py:267: extract_labels (from tensorflow.contrib.learn.python.learn.datasets.mnist) is deprecated and will be removed in a future version.\n",
      "Instructions for updating:\n",
      "Please use tf.data to implement this functionality.\n",
      "Extracting data/fashion/train-labels-idx1-ubyte.gz\n",
      "WARNING:tensorflow:From /home/mgd-pc/.local/lib/python3.5/site-packages/tensorflow/contrib/learn/python/learn/datasets/mnist.py:110: dense_to_one_hot (from tensorflow.contrib.learn.python.learn.datasets.mnist) is deprecated and will be removed in a future version.\n",
      "Instructions for updating:\n",
      "Please use tf.one_hot on tensors.\n",
      "Extracting data/fashion/t10k-images-idx3-ubyte.gz\n",
      "Extracting data/fashion/t10k-labels-idx1-ubyte.gz\n",
      "WARNING:tensorflow:From /home/mgd-pc/.local/lib/python3.5/site-packages/tensorflow/contrib/learn/python/learn/datasets/mnist.py:290: DataSet.__init__ (from tensorflow.contrib.learn.python.learn.datasets.mnist) is deprecated and will be removed in a future version.\n",
      "Instructions for updating:\n",
      "Please use alternatives such as official/mnist/dataset.py from tensorflow/models.\n"
     ]
    }
   ],
   "source": [
    "data = input_data.read_data_sets('data/fashion',one_hot=True)"
   ]
  },
  {
   "cell_type": "code",
   "execution_count": 31,
   "metadata": {},
   "outputs": [
    {
     "name": "stdout",
     "output_type": "stream",
     "text": [
      "Training set (images) shape: (55000, 784)\n",
      "Training set (labels) shape: (55000, 10)\n",
      "Test set (images) shape: (10000, 784)\n",
      "Test set (labels) shape: (10000, 10)\n"
     ]
    }
   ],
   "source": [
    "# Shapes of training set\n",
    "print(\"Training set (images) shape: {shape}\".format(shape=data.train.images.shape))\n",
    "print(\"Training set (labels) shape: {shape}\".format(shape=data.train.labels.shape))\n",
    "\n",
    "# Shapes of test set\n",
    "print(\"Test set (images) shape: {shape}\".format(shape=data.test.images.shape))\n",
    "print(\"Test set (labels) shape: {shape}\".format(shape=data.test.labels.shape))"
   ]
  },
  {
   "cell_type": "code",
   "execution_count": 32,
   "metadata": {},
   "outputs": [],
   "source": [
    "label_dict = {\n",
    " 0: 'T-shirt/top',\n",
    " 1: 'Trouser',\n",
    " 2: 'Pullover',\n",
    " 3: 'Dress',\n",
    " 4: 'Coat',\n",
    " 5: 'Sandal',\n",
    " 6: 'Shirt',\n",
    " 7: 'Sneaker',\n",
    " 8: 'Bag',\n",
    " 9: 'Ankle boot',\n",
    "}"
   ]
  },
  {
   "cell_type": "code",
   "execution_count": 34,
   "metadata": {},
   "outputs": [
    {
     "data": {
      "text/plain": [
       "array([[0., 0., 0., ..., 0., 0., 0.],\n",
       "       [0., 0., 0., ..., 0., 0., 0.],\n",
       "       [0., 0., 0., ..., 0., 0., 0.],\n",
       "       [0., 0., 0., ..., 0., 0., 0.],\n",
       "       [0., 0., 0., ..., 0., 0., 0.]], dtype=float32)"
      ]
     },
     "execution_count": 34,
     "metadata": {},
     "output_type": "execute_result"
    }
   ],
   "source": [
    "data.train.images[:5]"
   ]
  },
  {
   "cell_type": "code",
   "execution_count": null,
   "metadata": {},
   "outputs": [],
   "source": []
  }
 ],
 "metadata": {
  "anaconda-cloud": {},
  "kernelspec": {
   "display_name": "Python [conda env:anaconda3]",
   "language": "python",
   "name": "conda-env-anaconda3-py"
  },
  "language_info": {
   "codemirror_mode": {
    "name": "ipython",
    "version": 3
   },
   "file_extension": ".py",
   "mimetype": "text/x-python",
   "name": "python",
   "nbconvert_exporter": "python",
   "pygments_lexer": "ipython3",
   "version": "3.5.4"
  }
 },
 "nbformat": 4,
 "nbformat_minor": 2
}
