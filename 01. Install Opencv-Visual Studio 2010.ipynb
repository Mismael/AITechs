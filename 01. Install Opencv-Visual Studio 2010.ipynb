{
 "cells": [
  {
   "cell_type": "markdown",
   "metadata": {},
   "source": [
    "In This Tutorial even it will not be our concern, but i'll show you step by step how to install Opencv with Visual Studio 2010 so you can develop your project in C/C++ on Windows x32/x64 versions. "
   ]
  },
  {
   "cell_type": "markdown",
   "metadata": {},
   "source": [
    "### Prerequisites\n",
    "1. Install Visual Studio 2010 or Visual C++ Express\n",
    "2. Opencv  2.3.1\n",
    "\n",
    "(Note: this tutorial i wrote in 2012, so opencv version or visual studio edition maybe alittle older, but i think it will cover any verison. if you stuck in any step, please mail me)"
   ]
  },
  {
   "cell_type": "markdown",
   "metadata": {},
   "source": [
    "### Step 1\n",
    "\n",
    "Create New Project as in the following image."
   ]
  },
  {
   "cell_type": "markdown",
   "metadata": {
    "collapsed": true
   },
   "source": [
    "<img src=\"img/new-project.png\">"
   ]
  },
  {
   "cell_type": "markdown",
   "metadata": {},
   "source": [
    "### Step 2\n",
    "\n",
    "Click on the \"Property Manager\""
   ]
  },
  {
   "cell_type": "markdown",
   "metadata": {},
   "source": [
    "<img src=\"img/property-mng-tab.png\">\n",
    "\n",
    "Note: if your windows is 32-bit ..... Skip the next step.\n"
   ]
  },
  {
   "cell_type": "markdown",
   "metadata": {},
   "source": [
    "### Step 3\n",
    "\n",
    "to make the 64-bit suitable configurations for your project.\n",
    "\n",
    "\"Build\" menu > \"Configuration Manager\"\n",
    "the following window will appear.\n",
    "\"Active Solution Platform\" > NEW"
   ]
  },
  {
   "cell_type": "markdown",
   "metadata": {},
   "source": [
    "<img src=\"img/config-mng.png\">\n",
    "\n",
    "Choose the Type \"x64\" and Copy settings form \"Win32\" and Check \"Create New Project Platform\" as shown below..."
   ]
  },
  {
   "cell_type": "markdown",
   "metadata": {},
   "source": [
    "<img src=\"img/new-platform.png\">\n",
    "\n",
    "Now this is how your Property Manager will appear after configuring...."
   ]
  },
  {
   "cell_type": "markdown",
   "metadata": {},
   "source": [
    "<img src=\"img/property-manager.png\">\n",
    "\n",
    "Just Delete both \"Debug | Win32\" and \"Release | Win32\""
   ]
  },
  {
   "cell_type": "markdown",
   "metadata": {},
   "source": [
    "### Step 4\n",
    "\n",
    "Now.... let's make our Property Sheet.\n",
    "Property sheet is a sheet that link the details of your OpenCV library to your project.\n",
    "You make it once, and then you can include this sheet to any project you create.\n",
    "\n",
    "R.Click \"Debug | x64\" > \"Add New Project Property Sheet\".\n",
    "Name it for example \"CVDebug\" then Click \"Add\".\n",
    "\n",
    "Now, you've new sheet under \"Debug | x64\"..... Double Click it.\n",
    "And that what'll be opened..."
   ]
  },
  {
   "cell_type": "markdown",
   "metadata": {},
   "source": [
    "<img src=\"img/additional-include-directories.png\">\n",
    "\n",
    "in the Upper left there is \"Common Properties\" > \"C/C++\" > \"General\"C:\\OpenCV-2.3.1\\build\\include.\n",
    "now edit \"Additional Include Directories\" and add \"C:\\OpenCV-2.3.1\\build\\include\".... note that the directory path is that where i installed my OpenCV pack., whatever... search the OpenCV folder and go to build and then include.\n",
    "\n",
    "After you pressed OK..... now under  \"Common Properties\" > \"Linker\" > \"General\"... edit \"Additional Library Directory\" then add \"C:\\OpenCV-2.3.1\\build\\x64\\vc10\\lib\".\n",
    "\n",
    "Also under \"Common Properties\" > \"Linker\" > \"Input\" ...edit \"Additional Dependencies\" and add the .lib files which their names are ended with d letter (ex: \"opencv_core231d.lib\")..... \"d\" abbreviate for \"Debug\"."
   ]
  },
  {
   "cell_type": "markdown",
   "metadata": {},
   "source": [
    "### Step 5\n",
    "\n",
    "Repeat Step 4 for the \"Release | x64\" and for the \"Additional Dependence\" add the .lib files which don't have \"d\".\n",
    "\n",
    "\n",
    "### Step 6\n",
    "\n",
    "Now you are ready for your first Project.\n",
    "Click \"Solution Explorer\" tab > R.click on \"Source Files\" > \"Add\" > \"New Item\" .... Select \"C++ File\" and name the file."
   ]
  },
  {
   "cell_type": "markdown",
   "metadata": {},
   "source": [
    "<img src=\"img/add-new-item.png\">\n",
    "\n",
    "before coding .... Open you Project folder then locate your .exe file and add in the same folder the dll files from \"C:\\Opencv-2.3.1\\build\\x64\\vc10\\bin\" which also their names are ended with \"d\"."
   ]
  },
  {
   "cell_type": "code",
   "execution_count": null,
   "metadata": {
    "collapsed": true
   },
   "outputs": [],
   "source": [
    "// Test Your new configurations\n",
    "// This code will open 100x100 black window\n",
    "\n",
    "#include <opencv2\\opencv.hpp>\n",
    "\n",
    "using cv::Mat;\n",
    "\n",
    "int main(){\n",
    "    Mat image(Mat::zeros(100,100,CV_8U));\n",
    "    imshow(\"My Image\",image);\n",
    "    waitKey();\n",
    "    return 0;\n",
    "}\n",
    "\n",
    "\n",
    "// open camera Stream.\n",
    "\n",
    "#include <opencv2\\opencv.hpp>\n",
    "\n",
    "using cv::Mat;\n",
    "\n",
    "int main(){\n",
    "\n",
    "    Mat image;\n",
    "    VideoCapture cap(0);\n",
    "\n",
    "    While(true){\n",
    "\n",
    "        cap>>image;\n",
    "        Mat edges;\n",
    "        cvtcolor(img,edges,CV_BGR2GRAY);\n",
    "        Canny(edges,edges,30,60);\n",
    "        imshow(\"Capture\",edges);\n",
    "        waitKey(1);\n",
    "     }\n",
    "return 0; \n",
    "}"
   ]
  },
  {
   "cell_type": "markdown",
   "metadata": {},
   "source": [
    "but when you run projects decicated to cameras and videos an error will appear with missing tbb_debug.dll file.\n",
    "you will find this dll file in the \"libs\" folder within the repo, add it to your project in the same folder of the .exe file."
   ]
  }
 ],
 "metadata": {
  "anaconda-cloud": {},
  "kernelspec": {
   "display_name": "Python [conda env:anaconda3]",
   "language": "python",
   "name": "conda-env-anaconda3-py"
  },
  "language_info": {
   "codemirror_mode": {
    "name": "ipython",
    "version": 3
   },
   "file_extension": ".py",
   "mimetype": "text/x-python",
   "name": "python",
   "nbconvert_exporter": "python",
   "pygments_lexer": "ipython3",
   "version": "3.5.4"
  }
 },
 "nbformat": 4,
 "nbformat_minor": 1
}
