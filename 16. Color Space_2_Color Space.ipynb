{
 "cells": [
  {
   "cell_type": "code",
   "execution_count": null,
   "metadata": {
    "collapsed": true
   },
   "outputs": [],
   "source": [
    "First i'd like to mention some  expressions you may hear them through this post or in another image processing resources...... Pixel Depth & Color Space.\n",
    "\n",
    "as we knew there're many types of images( RGB, Binary, HSV, .....) and for each type the image may be contains only one layer (Channel) or multi layers.\n",
    "\n",
    "Also in some astronomical applications the high definition and the resolution of the image are very important, so you may be amazed by an image of the outer space or the planets with an enormous number of colors.\n",
    "\n",
    "\n",
    "\n",
    "Let's explain it more clear.... if we have a uni channel image...each pixel holds only one bit ...so we are supposed to see an image of only 2 values of colors.\n",
    "once again if we have the same image but each pixel holds 8 bits, then we have a layered image of of 2 colors and there gradient which values vary from 0 to 255.\n",
    "\n",
    "in the second example we have a Pixel holds more bits, wider color space and the pixel depth is more than the previous one.\n",
    "\n",
    "so as the pixel depth increase, the color space increase, and so we have an HD image with high Resolution.\n",
    "\n",
    "now we may want to convert an image from one type to another (ex.: RGB to Gray scale or HSV and vise versa).\n",
    "\n",
    "so we will get by a new function called cvCvtColor() and know how to convert an image...........\n",
    "\n",
    "all we will do now ... get an image and create a new frame for the converted one.\n",
    "\n",
    "NOTE: VIDEO IS IMAGES \n",
    "\n",
    "CODE:\n",
    "\n",
    "int main() \n",
    "{\n",
    " IplImage* img = cvLoadImage( \"D:\\\\test.jpg\" );\n",
    "        cvNamedWindow( \"Example1\", CV_WINDOW_AUTOSIZE );  \n",
    " IplImage* src = cvCreateImage(cvGetSize(img),IPL_DEPTH_8U,1);\n",
    "       cvCvtColor(img,src,CV_RGB2GRAY);\n",
    "       cvShowImage( \"Example1\", src );\n",
    "       cvWaitKey(0);\n",
    "       cvReleaseImage( &src );\n",
    "       cvDestroyWindow( \"Example1\" ); \n",
    "} \n",
    "\n",
    "\n",
    "Explanation:\n",
    "\n",
    " cvCreateImage: is a function used to create new frame image takes 3 parameters... Size, Depth, Channels numbers. so we used anther function that return the size of the original image cvGetSize(IMAGE), and we deals with depth of normal image ranges between 0 to 255 so we used 8U (8 unsigned bits) and you may use another flag to control your image depth from the following:\n",
    "\n",
    "IPL_DEPTH_8U - Unsigned 8-bit integer\n",
    "IPL_DEPTH_8S - Signed 8-bit integer\n",
    "IPL_DEPTH_16U - Unsigned 16-bit integer\n",
    "IPL_DEPTH_16S - Signed 16-bit integer\n",
    "IPL_DEPTH_32S - Signed 32-bit integer\n",
    "IPL_DEPTH_32F - Single-precision floating point\n",
    "IPL_DEPTH_64F - Double-precision floating point\n",
    "\n",
    "then we define the number of channels as 1 (gray scale image contains one layer).\n",
    "\n",
    "\n",
    " cvCvtColor: also takes 3 arguments...the original image, the destination frame we created and the converting flag.\n",
    "there are many conversions available so you can convert your image to any one of them...\n",
    "\n",
    "\n",
    "\n",
    "\n",
    "\n",
    "\n",
    "Only we need 3 types of conversions in our processing ... RGB, Gray Scale and HSV.\n"
   ]
  }
 ],
 "metadata": {
  "anaconda-cloud": {},
  "kernelspec": {
   "display_name": "Python [conda env:anaconda3]",
   "language": "python",
   "name": "conda-env-anaconda3-py"
  },
  "language_info": {
   "codemirror_mode": {
    "name": "ipython",
    "version": 3
   },
   "file_extension": ".py",
   "mimetype": "text/x-python",
   "name": "python",
   "nbconvert_exporter": "python",
   "pygments_lexer": "ipython3",
   "version": "3.5.3"
  }
 },
 "nbformat": 4,
 "nbformat_minor": 1
}
