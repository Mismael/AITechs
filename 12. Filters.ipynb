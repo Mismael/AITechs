{
 "cells": [
  {
   "cell_type": "code",
   "execution_count": null,
   "metadata": {
    "collapsed": true
   },
   "outputs": [],
   "source": [
    "First, let' discuss frankly what's the function of the word filter in our daily life.\n",
    "the filter is always a method to extract a definite (always pure) output from an input of negative and noisy Impurities, for example, a water filter to get pure water, sound systems filters to get pure sound of high beats, even the artistic filters in some software packages like photoshop is used to get a more enhanced images.\n",
    "\n",
    "the expression (to get) in our processing cycle is sometimes known by segmentation, segmenting is extracting a definite object  with omission of surrounding environment of surrounding noise, or even if it's not for segmenting so it enhances our images by decreasing the details and sharp edges.\n",
    "  \n",
    "We can't express the actions of the filters in words so the optimum way to get known to them is to code and run.\n",
    "\n",
    "Note: the following code contains the most effective filters in the Embedded Vision Systems...in other words, we don't use it in artistic way.\n",
    "\n",
    "CODE:\n",
    " \n",
    "#include <opencv\\cv.h>\n",
    "#include <opencv\\highgui.h>\n",
    "#include <stdio.h>\n",
    "#include <iostream>\n",
    "\n",
    "int main()\n",
    "{\n",
    "    int currentpos = 0;\n",
    "    IplImage* img = cvLoadImage( \"image.JPG\" );\n",
    "    IplImage* out = cvCreateImage( cvGetSize(img), IPL_DEPTH_8U, 3 );\n",
    "    cvNamedWindow( \"Filters\");\n",
    "    cvShowImage(\"Filters\", out);\n",
    "    \n",
    "    CvPoint seed_point = cvPoint(305,195);\n",
    "    CvScalar color = CV_RGB(250,0,0);\n",
    "\n",
    "    cvCreateTrackbar( \"FILTER\", \"Filters\", &currentpos, 5,NULL );\n",
    "    while( 1 ) {\n",
    "        switch( currentpos ){\n",
    "        case 0:\n",
    "            cvSmooth( img, out, CV_BLUR, 7, 7 );\n",
    "            cvShowImage(\"Filters\", out);\n",
    "            break;\n",
    "        case 1:\n",
    "            cvSmooth( img, out, CV_GAUSSIAN, 7, 7 );\n",
    "            cvShowImage(\"Filters\", out);\n",
    "            break;\n",
    "        case 2:\n",
    "            cvSmooth( img, out, CV_MEDIAN, 7, 7 );\n",
    "            cvShowImage(\"Filters\", out);\n",
    "            break;\n",
    "        case 3:\n",
    "            cvErode( img, out, NULL, 1);\n",
    "            cvShowImage(\"Filters\", out);\n",
    "            break;\n",
    "        case 4:\n",
    "            cvDilate( img, out, NULL, 1);\n",
    "            cvShowImage(\"Filters\", out);\n",
    "            break;\n",
    "        case 5:\n",
    "            //Flood fill used to fill connected pixels in an image with new colour starts from a seed pixel\n",
    "            cvFloodFill( out, seed_point, color, cvScalarAll(5.0), cvScalarAll(5.0), NULL, 4, NULL );\n",
    "            cvShowImage(\"Filters\", out);\n",
    "            break;\n",
    "        }\n",
    "        \n",
    "        if( cvWaitKey( 15 ) == 27 )\n",
    "            break;\n",
    "    }\n",
    "    cvReleaseImage( &img );\n",
    "    cvReleaseImage( &out );\n",
    "    cvDestroyWindow( \"Filters\" );\n",
    "    return 0;\n",
    "} "
   ]
  },
  {
   "cell_type": "code",
   "execution_count": null,
   "metadata": {},
   "outputs": [],
   "source": [
    "#OverLaying Images\n",
    "\n",
    "\n",
    "image2 = cv2.imread(\"/media/mgd-pc/m.magdy.isl/E-Library/Programming/AITechs/img/image1.jpg\")\n",
    "\n",
    "overlayed = cv2.bitwise_or(image2,image,None)\n",
    "\n",
    "plt.imshow(overlayed)"
   ]
  }
 ],
 "metadata": {
  "anaconda-cloud": {},
  "kernelspec": {
   "display_name": "Python [conda env:anaconda3]",
   "language": "python",
   "name": "conda-env-anaconda3-py"
  },
  "language_info": {
   "codemirror_mode": {
    "name": "ipython",
    "version": 3
   },
   "file_extension": ".py",
   "mimetype": "text/x-python",
   "name": "python",
   "nbconvert_exporter": "python",
   "pygments_lexer": "ipython3",
   "version": "3.5.4"
  }
 },
 "nbformat": 4,
 "nbformat_minor": 1
}
