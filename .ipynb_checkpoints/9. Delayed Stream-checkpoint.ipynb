{
 "cells": [
  {
   "cell_type": "markdown",
   "metadata": {
    "collapsed": true
   },
   "source": [
    "You must Run this code to test the delay effect in the captured frames.\n",
    "so only just few comments will be written through the code..................."
   ]
  },
  {
   "cell_type": "code",
   "execution_count": null,
   "metadata": {
    "collapsed": true
   },
   "outputs": [],
   "source": [
    "#define DELAY_T 100\n",
    "\n",
    " void main() {\n",
    "\n",
    "//create 3 frames \n",
    " IplImage* image = 0;\n",
    " IplImage* image1 = 0;\n",
    " IplImage* image2 = 0;\n",
    "\n",
    "//then capture from Camera....also you can capture from video file.\n",
    " CvCapture * capture =cvCaptureFromCAM(0); \n",
    "\n",
    "//create 3 windows for the previewed frames....the original one and 2 delayed frames.\n",
    " cvNamedWindow(\"Origin\");\n",
    " cvNamedWindow( \"t\");\n",
    " cvNamedWindow( \"t-1\");\n",
    "\n",
    " int one_zero=0;\n",
    "\n",
    " while(1) {\n",
    "//get the captured frame...remember: this is the original one. \n",
    " image = cvRetrieveFrame( capture );\n",
    "//only for the first frame...if image2 is still uninitialized...so create image frames for each image1 and image2.\n",
    " if(image2 == 0){\n",
    " image1 = cvCreateImage(cvSize(image->width, image->height), image->depth, image->nChannels);\n",
    " image2 = cvCreateImage(cvSize(image->width, image->height), image->depth, image->nChannels);\n",
    " }\n",
    "\n",
    "//show the original captures.\n",
    " cvShowImage( \"Origin\", image);\n",
    "\n",
    "//pay attention with me... If one_zero==0>> for the first time your code faces this loop which means that the variable one_zero is still equal zero... the \"image1\" will be moved to memory location \"image2\"..and \"image\"\n",
    "will be moved to the memory location of  \"image1\"....and then \"image1\" and \"image2\" will be showed\n",
    "and the one_zero counter will be increased by one.\n",
    "BUT if the division remainder of the one_zero counter by your defined delay time not equal zero...only the next frame will be showed in \"image\" ....and \"image1\" and \"image2\" is the same of the previous loop and the will be updated when the division remainder equals zero.\n",
    "also you should know that the delay between image1 and image2 is due to the memory location movements//\n",
    "\n",
    " if(one_zero == 0 ){\n",
    " memcpy(image2->imageData, image1->imageData, sizeof(char)*image->imageSize );\n",
    " memcpy(image1->imageData, image->imageData, sizeof(char)*image->imageSize );\n",
    " cvShowImage( \"t\", image1 );\n",
    " cvShowImage( \"t-1\", image2 );\n",
    " }\n",
    "\n",
    " one_zero++;\n",
    " if( (one_zero%DELAY_T) == 0){\n",
    " one_zero=0;\n",
    " }\n",
    " if( cvWaitKey(10) >= 0 ) \n",
    "  break;\n",
    " }\n",
    "cvReleaseCapture( &capture );\n",
    "cvDestroyAllWindows();\n",
    "cvReleaseImage(&image1);\n",
    "cvReleaseImage(&image2);\n",
    " }"
   ]
  }
 ],
 "metadata": {
  "anaconda-cloud": {},
  "kernelspec": {
   "display_name": "Python [conda env:anaconda3]",
   "language": "python",
   "name": "conda-env-anaconda3-py"
  },
  "language_info": {
   "codemirror_mode": {
    "name": "ipython",
    "version": 3
   },
   "file_extension": ".py",
   "mimetype": "text/x-python",
   "name": "python",
   "nbconvert_exporter": "python",
   "pygments_lexer": "ipython3",
   "version": "3.5.3"
  }
 },
 "nbformat": 4,
 "nbformat_minor": 1
}
