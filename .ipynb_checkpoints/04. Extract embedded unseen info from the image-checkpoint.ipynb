{
 "cells": [
  {
   "cell_type": "markdown",
   "metadata": {},
   "source": [
    "> This tutorial is useful if you care about the info about the capturing device, so not only you can get benefit from the seen image, but also you can know many info like the capturing device name, model, exposure, GPS location where the image was taken, dimensions, date and time of capturing...etc."
   ]
  },
  {
   "cell_type": "code",
   "execution_count": 20,
   "metadata": {},
   "outputs": [],
   "source": [
    "#import PIL library which will be useful in this case\n",
    "from PIL import Image\n",
    "from PIL.ExifTags import TAGS, GPSTAGS"
   ]
  },
  {
   "cell_type": "code",
   "execution_count": 21,
   "metadata": {},
   "outputs": [
    {
     "name": "stdout",
     "output_type": "stream",
     "text": [
      "ImageWidth  :  4160\n",
      "ImageLength  :  3120\n",
      "BitsPerSample  :  (8, 8, 8)\n",
      "DateTimeOriginal  :  2015:12:03 10:14:50\n",
      "DateTimeDigitized  :  2015:12:03 10:14:50\n",
      "ExifInteroperabilityOffset  :  932\n",
      "ExifVersion  :  b'0210'\n",
      "ComponentsConfiguration  :  b'\\x01\\x02\\x03\\x00'\n",
      "LightSource  :  1\n",
      "Flash  :  0\n",
      "FocalLength  :  (3850, 1000)\n",
      "DeviceSettingDescription  :  b'ipp\\x00'\n",
      "SubjectDistanceRange  :  0\n",
      "ApertureValue  :  (227, 100)\n",
      "Make  :  HUAWEI\n",
      "Model  :  MediaPad X1 7.0\n",
      "SubsecTimeOriginal  :  316330\n",
      "Orientation  :  1\n",
      "YCbCrPositioning  :  1\n",
      "Contrast  :  0\n",
      "SensingMethod  :  2\n",
      "ExposureBiasValue  :  (0, 1000000)\n",
      "XResolution  :  (72, 1)\n",
      "YResolution  :  (72, 1)\n",
      "ExposureTime  :  (1, 1876)\n",
      "DigitalZoomRatio  :  (100, 100)\n",
      "ExposureProgram  :  2\n",
      "ColorSpace  :  1\n",
      "UserComment  :  b'ASCII\\x00\\x00\\x00Hisilicon Balong\\x00'\n",
      "ISOSpeedRatings  :  50\n",
      "ResolutionUnit  :  2\n",
      "WhiteBalance  :  0\n",
      "MeteringMode  :  1\n",
      "FNumber  :  (220, 100)\n",
      "Software  :  7D-501uV100R002C358B002\n",
      "DateTime  :  2015:12:03 10:14:50\n",
      "ShutterSpeedValue  :  (108734, 10000)\n",
      "Saturation  :  0\n",
      "SceneType  :  b'\\x01'\n",
      "Sharpness  :  0\n",
      "FileSource  :  b'\\x03'\n",
      "ExifImageWidth  :  4160\n",
      "CustomRendered  :  1\n",
      "FlashPixVersion  :  b'0100'\n",
      "SceneCaptureType  :  0\n",
      "ExifImageHeight  :  3120\n",
      "SubsecTime  :  316330\n",
      "ExposureMode  :  0\n",
      "ExifOffset  :  272\n",
      "SubsecTimeDigitized  :  316330\n",
      "BrightnessValue  :  (0, 1)\n",
      "GainControl  :  0\n",
      "MakerNote  :  b'M[2] [90,1] [ca,dd]\\x00'\n"
     ]
    }
   ],
   "source": [
    "image = \"./img/IMG_20151203_101448.jpg\" # load an image through PIL's Image object\n",
    "\n",
    "exif_data = {}\n",
    "image = Image.open(image)\n",
    "info = image._getexif()\n",
    "\n",
    "if info:\n",
    "    for tag, value in info.items():\n",
    "        \n",
    "        \n",
    "        decoded = TAGS.get(tag, tag)\n",
    "        print (decoded ,\" : \",value)"
   ]
  },
  {
   "cell_type": "markdown",
   "metadata": {
    "collapsed": true
   },
   "source": [
    "## As you see how much the info which you can get from the image and the device which was used in capturing "
   ]
  }
 ],
 "metadata": {
  "kernelspec": {
   "display_name": "Python [conda env:anaconda3]",
   "language": "python",
   "name": "conda-env-anaconda3-py"
  },
  "language_info": {
   "codemirror_mode": {
    "name": "ipython",
    "version": 3
   },
   "file_extension": ".py",
   "mimetype": "text/x-python",
   "name": "python",
   "nbconvert_exporter": "python",
   "pygments_lexer": "ipython3",
   "version": "3.5.4"
  }
 },
 "nbformat": 4,
 "nbformat_minor": 1
}
