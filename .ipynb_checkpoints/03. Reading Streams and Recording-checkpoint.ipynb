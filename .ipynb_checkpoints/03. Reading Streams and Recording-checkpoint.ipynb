{
 "cells": [
  {
   "cell_type": "markdown",
   "metadata": {},
   "source": [
    "Streams here means that you're trying to read a video file stream or you're capturing through live camera, <br>\n",
    "it's not even complicated, it's like processing on an images iteration in sequence. <br>\n",
    "so we will start with how to read from a file or a capture, then try to record our video through camera. <br>"
   ]
  },
  {
   "cell_type": "markdown",
   "metadata": {},
   "source": [
    "# Video Files"
   ]
  },
  {
   "cell_type": "markdown",
   "metadata": {},
   "source": [
    "### Python"
   ]
  },
  {
   "cell_type": "code",
   "execution_count": null,
   "metadata": {},
   "outputs": [],
   "source": [
    "#Imports\n",
    "import cv2\n",
    "import matplotlib.pyplot as plt"
   ]
  },
  {
   "cell_type": "code",
   "execution_count": null,
   "metadata": {},
   "outputs": [],
   "source": [
    "#Load your video file\n",
    "vid = cv2.VideoCapture('./videos/video1.avi')"
   ]
  },
  {
   "cell_type": "code",
   "execution_count": null,
   "metadata": {},
   "outputs": [],
   "source": [
    "#Check Your video FPS\n",
    "#Note that this method is not applicable with live camera stream, you can calculate it manually\n",
    "vid.get(cv2.CAP_PROP_FPS)"
   ]
  },
  {
   "cell_type": "code",
   "execution_count": null,
   "metadata": {},
   "outputs": [],
   "source": [
    "#Return the Current Video Position in millisec\n",
    "vid.get(cv2.CAP_PROP_POS_MSEC)"
   ]
  },
  {
   "cell_type": "code",
   "execution_count": null,
   "metadata": {},
   "outputs": [],
   "source": [
    "#Return the Current Video Frame Position \n",
    "vid.get(cv2.CAP_PROP_POS_FRAMES)"
   ]
  },
  {
   "cell_type": "code",
   "execution_count": null,
   "metadata": {},
   "outputs": [],
   "source": [
    "#Return the total number of Frames in the video file\n",
    "vid.get(cv2.CAP_PROP_FRAME_COUNT)"
   ]
  },
  {
   "cell_type": "code",
   "execution_count": null,
   "metadata": {},
   "outputs": [],
   "source": [
    "vid.set(cv2.CAP_PROP_POS_FRAMES,2)"
   ]
  },
  {
   "cell_type": "code",
   "execution_count": null,
   "metadata": {},
   "outputs": [],
   "source": [
    "while(vid.isOpened()):\n",
    "    ret, frame = vid.read()\n",
    "\n",
    "\n",
    "    cv2.imshow('frame',frame)\n",
    "    if cv2.waitKey(1) & 0xFF == ord('q'):\n",
    "        break\n",
    "\n",
    "vid.release()\n",
    "cv2.destroyAllWindows()"
   ]
  },
  {
   "cell_type": "markdown",
   "metadata": {},
   "source": [
    "# Live Camera Stream and Record to New File"
   ]
  },
  {
   "cell_type": "markdown",
   "metadata": {},
   "source": [
    "### Python"
   ]
  },
  {
   "cell_type": "code",
   "execution_count": null,
   "metadata": {},
   "outputs": [],
   "source": [
    "#Imports\n",
    "import cv2"
   ]
  },
  {
   "cell_type": "code",
   "execution_count": null,
   "metadata": {},
   "outputs": [],
   "source": [
    "#Initialize a connected Camera, pass 0 if there's only one camera, \n",
    "#if more than one just increase the index instead of 0\n",
    "cap = cv2.VideoCapture(0)"
   ]
  },
  {
   "cell_type": "code",
   "execution_count": null,
   "metadata": {},
   "outputs": [],
   "source": [
    "# Define the codec and create VideoWriter object\n",
    "fourcc = cv2.VideoWriter_fourcc('M','J','P','G')\n",
    "out = cv2.VideoWriter('output2.avi',fourcc, 20.0, (640,480))"
   ]
  },
  {
   "cell_type": "code",
   "execution_count": null,
   "metadata": {},
   "outputs": [],
   "source": [
    "#Start Your capture Loop\n",
    "while(cap.isOpened()):\n",
    "        ret, frame = cap.read()\n",
    "        if ret==True:\n",
    "            frame = cv2.flip(frame,1)\n",
    "\n",
    "            #Record the new flipped scene to a new file\n",
    "            out.write(frame)\n",
    "\n",
    "            cv2.imshow('frame',frame)\n",
    "            if cv2.waitKey(1) & 0xFF == ord('q'):\n",
    "                break\n",
    "        else:\n",
    "            break\n",
    "\n",
    "cap.release()\n",
    "out.release()\n",
    "cv2.destroyAllWindows()"
   ]
  },
  {
   "cell_type": "markdown",
   "metadata": {},
   "source": [
    "# C Language"
   ]
  },
  {
   "cell_type": "markdown",
   "metadata": {},
   "source": [
    "> Below is some instruction for implementing the same steps above but in C language"
   ]
  },
  {
   "cell_type": "markdown",
   "metadata": {},
   "source": [
    "we use a new function to read the video file \"cvCreateFileCapture\", and to use it properly you must include a .dll file in the .exe file directory.\n",
    "\n",
    "Open \"C:\\OpenCV-2.3.1\\build\\x64\\vc10\\bin\", you'll find a file \"opencv_ffmpeg_64.dll\", copy it and paste in your .exe folder of the project.\n",
    "\n",
    "You can open *.avi and *.mpeg, same way that it can open *.wma file so try it.\n",
    "\n",
    "When dealing with the video files you must know that your camera (or video) capture sequence of images, so we create frame for each image and show it as long as your camera (or video) takes captures."
   ]
  },
  {
   "cell_type": "code",
   "execution_count": null,
   "metadata": {},
   "outputs": [],
   "source": [
    "#include <opencv\\highgui.h>\n",
    "int main() {\n",
    "             cvNamedWindow( “Video”, CV_WINDOW_AUTOSIZE );\n",
    "             CvCapture* capture = cvCreateFileCapture(\"D:\\\\test.avi\");\n",
    "             IplImage* frame;\n",
    "\n",
    "             while(1) {\n",
    "                 frame = cvQueryFrame( capture );\n",
    "                 if( !frame ) break;\n",
    "                cvShowImage( “Video”, frame );\n",
    "                char c = cvWaitKey(33);\n",
    "                if( c == 27 ) break;\n",
    "}\n",
    "           cvReleaseCapture( &capture );\n",
    "           cvDestroyWindow( “Video” );\n",
    "}"
   ]
  },
  {
   "cell_type": "markdown",
   "metadata": {},
   "source": [
    "> Explanation: \n",
    "\n",
    "we created a window and called it \"Video\" to show our captured video in it.\n",
    "\n",
    ">> CvCapture: is a structure function like \"IplImage\" that we used it before to hold the image data, but this one \n",
    "              is for holding the data of the video captures file.\n",
    "\n",
    ">> cvCreateFileCapture(\"video file directory\"): this function reads the video directory and the data which will be hold. \n",
    "\n",
    "then we created variable called \"frame\" to hold each capture from the video, and as i said before, the video is a number of images in sequence so we used the \"IplImage\" to hold each image.\n",
    "\n",
    "and in my while loop and as long as my camera captures images, we will take each capture in a frame by:\n",
    "\n",
    ">> cvQueryFrame(the camera capture): which will take each capture and save it in a single frame each time,\n",
    "                                     and we used  \"cvShowImage\" to show each frame.\n",
    "\n",
    "\n",
    "if( !frame ) break: we used it to check each frame, if the frame is null, the loop will be terminated.\n",
    "\n",
    "the rest of the code is simple and explained in the previous Tutorial."
   ]
  },
  {
   "cell_type": "markdown",
   "metadata": {},
   "source": [
    "## Now we will make some changes to capture from Camera"
   ]
  },
  {
   "cell_type": "markdown",
   "metadata": {},
   "source": [
    "#include <opencv\\highgui.h>\n",
    "\n",
    "int main() {\n",
    "            cvNamedWindow( \"Video\", CV_WINDOW_AUTOSIZE );\n",
    "            CvCapture*capture =cvCaptureFromCAM(0);\n",
    "            IplImage* frame;\n",
    "\n",
    "             while(1) {\n",
    "                 frame = cvQueryFrame( capture );\n",
    "                 if( !frame ) break;\n",
    "                cvShowImage( \"Video\", frame );\n",
    "  char c = cvWaitKey(33);\n",
    "                if( c == 27 ) break;\n",
    "}\n",
    "           cvReleaseCapture( &capture );\n",
    "           cvDestroyWindow( \"Video\" );\n",
    "}\n",
    "  "
   ]
  },
  {
   "cell_type": "markdown",
   "metadata": {},
   "source": [
    "> Explanation:\n",
    "\n",
    "The same if you want to open video file but we replaced \"cvCreateFileCapture\" with \"cvCreateCameraCapture\".\n",
    "\n",
    ">> cvCreateCameraCapture(device id): if there're more than one camera, so for each one there's an\n",
    "                                                              ID but if there's single camera just but 0. "
   ]
  },
  {
   "cell_type": "markdown",
   "metadata": {},
   "source": [
    "## and Finally ... Recording"
   ]
  },
  {
   "cell_type": "code",
   "execution_count": null,
   "metadata": {},
   "outputs": [],
   "source": [
    "int main()\n",
    "{\n",
    "     //load the video file to the memory\n",
    "     CvCapture *capture = cvCaptureFromAVI(\"C:/video.avi\");\n",
    "     if( !capture ) return 1;\n",
    "    //get the width of frame\n",
    "    int frame_width=(int) cvGetCaptureProperty(capture, CV_CAP_PROP_FRAME_WIDTH);\n",
    "    //get the height of frame\n",
    "    int frame_height=(int) cvGetCaptureProperty(capture, CV_CAP_PROP_FRAME_HEIGHT);\n",
    "    //get the frames per second\n",
    "    int fps = ( int )cvGetCaptureProperty( capture, CV_CAP_PROP_FPS );\n",
    "\n",
    "//creating video writer structure\n",
    "// Available Video Formats\n",
    "//CV_FOURCC('D', 'I', 'V', '3') for MPEG-4.3 codec\n",
    "//CV_FOURCC('M', 'P', '4', '2') for MPEG-4.2 codec\n",
    "//CV_FOURCC('D', 'I', 'V', 'X') for MPEG-4 codec\n",
    "//CV_FOURCC('P','I','M','1') for MPEG-1 codec\n",
    "//CV_FOURCC('U', '2', '6', '3') for H263 codec\n",
    "//CV_FOURCC('I', '2', '6', '3') for H263I codec\n",
    "//CV_FOURCC('F', 'L', 'V', '1') for FLV1 codec\n",
    "\n",
    "CvVideoWriter *writer=cvCreateVideoWriter(\"savedVideo.avi\",CV_FOURCC('M', 'P', '4','2'),fps,cvSize(frame_width,frame_height),1);\n",
    "\n",
    "if( !writer ) {\n",
    "      //release memory\n",
    "      cvReleaseCapture( &capture );\n",
    "      return 0;\n",
    "}\n",
    "while(true) {\n",
    "      //grab and retrieve each frames of the video sequentially\n",
    "      IplImage* frame = cvQueryFrame( capture );\n",
    "      if( !frame ) break;\n",
    "      //writing frame by frame to the output file\n",
    "      cvWriteFrame(writer,frame);\n",
    "                }\n",
    "    //release memory\n",
    "    cvReleaseVideoWriter(&writer);\n",
    "    cvReleaseCapture( &capture );\n",
    "    return 0;\n",
    "}"
   ]
  },
  {
   "cell_type": "code",
   "execution_count": null,
   "metadata": {},
   "outputs": [],
   "source": []
  }
 ],
 "metadata": {
  "anaconda-cloud": {},
  "kernelspec": {
   "display_name": "Python [conda env:anaconda3]",
   "language": "python",
   "name": "conda-env-anaconda3-py"
  },
  "language_info": {
   "codemirror_mode": {
    "name": "ipython",
    "version": 3
   },
   "file_extension": ".py",
   "mimetype": "text/x-python",
   "name": "python",
   "nbconvert_exporter": "python",
   "pygments_lexer": "ipython3",
   "version": "3.5.4"
  }
 },
 "nbformat": 4,
 "nbformat_minor": 1
}
