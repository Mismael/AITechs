{
 "cells": [
  {
   "cell_type": "markdown",
   "metadata": {},
   "source": [
    "This is a simple tutorial on how to create a C# project using AForge.NET library used in machine vision and AI targeting .Net apps."
   ]
  },
  {
   "cell_type": "markdown",
   "metadata": {},
   "source": [
    "### Prerequisites\n",
    "1. Visual Studio 2010 or any edition.\n",
    "2. Aforge Package http://www.aforgenet.com/news/2013.07.17.releasing_framework_2.2.5.html "
   ]
  },
  {
   "cell_type": "markdown",
   "metadata": {},
   "source": [
    "### Step 1\n",
    "\n",
    "let's make Our UI Design Like this:"
   ]
  },
  {
   "cell_type": "markdown",
   "metadata": {
    "collapsed": true
   },
   "source": [
    "<img src=\"img/Untitled.png\">"
   ]
  },
  {
   "cell_type": "markdown",
   "metadata": {},
   "source": [
    "### Step 2\n",
    "\n",
    "Download Aforge Pack. and Unzip the folder...open (\"C:\\AForge.NET Framework-2.2.5\\Release\")."
   ]
  },
  {
   "cell_type": "markdown",
   "metadata": {},
   "source": [
    "<img src=\"img/Untitled (1).png\"> "
   ]
  },
  {
   "cell_type": "markdown",
   "metadata": {},
   "source": [
    "### Step 3\n",
    "\n",
    "In your project open the \"Solution Explorer\" tab > \"Reference\"\n",
    "R.Click it and select \"Add Reference\""
   ]
  },
  {
   "cell_type": "markdown",
   "metadata": {},
   "source": [
    "<img src=\"img/Untitled (2).png\">"
   ]
  },
  {
   "cell_type": "markdown",
   "metadata": {},
   "source": [
    "a box will be opened appears like this.."
   ]
  },
  {
   "cell_type": "markdown",
   "metadata": {},
   "source": [
    "<img src=\"img/Untitled (3).png\">"
   ]
  },
  {
   "cell_type": "markdown",
   "metadata": {},
   "source": [
    "in the \"Browse\" tab open the Aforge Folder directory mentioned in STEP 2 and Select all .dll files as in the previous Image."
   ]
  },
  {
   "cell_type": "markdown",
   "metadata": {},
   "source": [
    "### Step 4\n",
    "\n",
    "here we can use the Aforge Library to Capture video from Camera. "
   ]
  },
  {
   "cell_type": "code",
   "execution_count": null,
   "metadata": {
    "collapsed": false
   },
   "outputs": [],
   "source": [
    "//Example Code\n",
    "\n",
    "using System;\n",
    "using System.Collections.Generic;\n",
    "using System.ComponentModel;\n",
    "using System.Data;\n",
    "using System.Drawing;\n",
    "using System.Linq;\n",
    "using System.Text;\n",
    "using System.Windows.Forms;\n",
    "using AForge.Video;\n",
    "using AForge.Video.VFW;\n",
    "using AForge.Video.FFMPEG;\n",
    "using AForge.Video.DirectShow;\n",
    "\n",
    "\n",
    "namespace AROS\n",
    "\n",
    "{\n",
    "    public partial class Cam : Form\n",
    "\n",
    "    {\n",
    "        private FilterInfoCollection VideoCaptureDevices;\n",
    "        private VideoCaptureDevice FinalVideo;\n",
    "\n",
    "        public Cam(){\n",
    "            InitializeComponent();\n",
    "        }  \n",
    "\n",
    "        private void Form1_Load(object sender, EventArgs e){\n",
    "\n",
    "            VideoCaptureDevices = new FilterInfoCollection(FilterCategory.VideoInputDevice);\n",
    "            foreach (FilterInfo videoCaptureDevice in VideoCaptureDevices){\n",
    "                comboBox1.Items.Add(videoCaptureDevice.Name);\n",
    "            }\n",
    "\n",
    "            try{\n",
    "                comboBox1.SelectedIndex = 0;\n",
    "            }\n",
    "            catch{\n",
    "                MessageBox.Show(\"Check Your Camera\");\n",
    "            }\n",
    "\n",
    "        } \n",
    "\n",
    "        private void Exit_Click(object sender, EventArgs e){\n",
    "\n",
    "            Application.Exit();\n",
    "\n",
    "        }\n",
    "\n",
    "        private void Pause_Click(object sender, EventArgs e){\n",
    "\n",
    "            if (FinalVideo.IsRunning){\n",
    "\n",
    "                FinalVideo.Stop();\n",
    "            }\n",
    "        }\n",
    "\n",
    "        \n",
    "\n",
    "        void FinalVideo_NewFrame(object sender, NewFrameEventArgs eventArgs){\n",
    "            Bitmap Video = (Bitmap)eventArgs.Frame.Clone();\n",
    "            pictureBox1.Image = Video;\n",
    "        } \n",
    "\n",
    "       \n",
    "\n",
    "        private void standby_Click(object sender, EventArgs e){\n",
    "\n",
    "            FinalVideo = new VideoCaptureDevice(VideoCaptureDevices[comboBox1.SelectedIndex].MonikerString);\n",
    "            FinalVideo.NewFrame += new NewFrameEventHandler(FinalVideo_NewFrame);\n",
    "            FinalVideo.Start();\n",
    "        } \n",
    "\n",
    "    }\n",
    "\n",
    "}"
   ]
  }
 ],
 "metadata": {
  "anaconda-cloud": {},
  "kernelspec": {
   "display_name": "Python [conda env:anaconda3]",
   "language": "python",
   "name": "conda-env-anaconda3-py"
  },
  "language_info": {
   "codemirror_mode": {
    "name": "ipython",
    "version": 3
   },
   "file_extension": ".py",
   "mimetype": "text/x-python",
   "name": "python",
   "nbconvert_exporter": "python",
   "pygments_lexer": "ipython3",
   "version": "3.5.4"
  }
 },
 "nbformat": 4,
 "nbformat_minor": 1
}
