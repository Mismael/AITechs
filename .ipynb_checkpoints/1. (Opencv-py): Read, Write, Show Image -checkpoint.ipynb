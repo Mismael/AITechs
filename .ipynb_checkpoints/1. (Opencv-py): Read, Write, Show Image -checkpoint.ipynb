{
 "cells": [
  {
   "cell_type": "markdown",
   "metadata": {},
   "source": [
    "# 1. Read, Write, Show Image (Opencv)"
   ]
  },
  {
   "cell_type": "markdown",
   "metadata": {},
   "source": [
    "Any Image Processing will go through 3 main steps\n",
    "1. Read the image or the video (saved video or camera stream)\n",
    "2. Process your inputs\n",
    "3. Finally, show your outputs and save them"
   ]
  },
  {
   "cell_type": "markdown",
   "metadata": {},
   "source": [
    "Processing Data (Image) is an imprtant step and varies whatever your needs, maybe you want to neglect some data, removing noise, brightness adjustments, color space conversions, feature extractions etc.\n",
    "\n",
    "also it will have a great effect when you are about to go through some neural networks training stuff."
   ]
  },
  {
   "cell_type": "markdown",
   "metadata": {},
   "source": [
    "### Code "
   ]
  },
  {
   "cell_type": "code",
   "execution_count": null,
   "metadata": {
    "collapsed": true
   },
   "outputs": [],
   "source": [
    "##PYTHON\n",
    "\n",
    "#Import Opencv module\n",
    "import cv2\n",
    "#read the image directory\n",
    "image = cv2.imread(\"D:\\\\image.jpg\")\n",
    "#Create Window to show Your Image in\n",
    "cv2.namedWindow(\"Image\",cv2.CV_WINDOW_AUTOSIZE)\n",
    "#Finally Show Your Image\n",
    "cv2.imshow(\"Image\", image)\n",
    "#Don't Close the window until a key event takes place\n",
    "cv2.waitKey(0)\n",
    "cv2.destroyWindow(\"Image\")"
   ]
  },
  {
   "cell_type": "code",
   "execution_count": null,
   "metadata": {
    "collapsed": true
   },
   "outputs": [],
   "source": [
    "#OverLaying Images\n",
    "\n",
    "im1 = cv2.imread(\"im1.jpg\")\n",
    "im2 = cv2.imread(\"im2.jpg\")\n",
    "\n",
    "im = cv2.bitwise_or(im1,im2,None)\n",
    "cv2.imshow(\"Image\",im)\n",
    "\n",
    "key = cv2.waitKey(0)\n",
    "im.release()\n",
    "cv2.destroyAllWindows()"
   ]
  },
  {
   "cell_type": "code",
   "execution_count": null,
   "metadata": {
    "collapsed": true
   },
   "outputs": [],
   "source": [
    "##C/C++\n",
    "\n",
    "\n",
    "#include <opencv\\highgui.h>\n",
    "\n",
    "int main() {\n",
    "\n",
    "         IplImage* img = cvLoadImage( argv[1] );\n",
    "         cvNamedWindow( “Example1”, CV_WINDOW_AUTOSIZE );\n",
    "         cvShowImage( “Example1”, img );\n",
    "         cvWaitKey(0);\n",
    "         cvReleaseImage( &img );\n",
    "         cvDestroyWindow( “Example1” );\n",
    "}"
   ]
  }
 ],
 "metadata": {
  "anaconda-cloud": {},
  "kernelspec": {
   "display_name": "Python [conda env:anaconda3]",
   "language": "python",
   "name": "conda-env-anaconda3-py"
  },
  "language_info": {
   "codemirror_mode": {
    "name": "ipython",
    "version": 3
   },
   "file_extension": ".py",
   "mimetype": "text/x-python",
   "name": "python",
   "nbconvert_exporter": "python",
   "pygments_lexer": "ipython3",
   "version": "3.5.4"
  }
 },
 "nbformat": 4,
 "nbformat_minor": 1
}
