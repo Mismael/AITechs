{
 "cells": [
  {
   "cell_type": "code",
   "execution_count": null,
   "metadata": {
    "collapsed": true
   },
   "outputs": [],
   "source": [
    "This post is not about how to code the command of creating a GUI of track bar in opencv....but where to be placed and how the the object which uses this value pointed on the track bar can be updated with each pointer slide on the track bar.\n",
    "\n",
    "As we're using Opencv with the C language so we need to know how the C code is initialized.\n",
    "any C code must start from the main function.....\n",
    "\n",
    "#include < YOUR HEADER FILES >\n",
    "\n",
    "int main(){\n",
    "\n",
    "                     // Your code \n",
    "\n",
    "}\n",
    "\n",
    "\n",
    "Now we want to create a track bar starts from 0 to 100, review command parameters Link.\n",
    "\n",
    "#include <opencv/highgui.h>\n",
    "#include <opencv/cv.h>\n",
    "#include <stdio.h>\n",
    "\n",
    "int main(){\n",
    "\n",
    "//create new window\n",
    "cvNamedWindow(\"MyWindow\");\n",
    "//define the start position of the pointer on the track\n",
    "int bright=50;\n",
    "//create the track bar\n",
    "cvCreateTrackbar(\"brightness\", \"MyWindow\", &bright, 100, NULL);\n",
    "//load image\n",
    "IplImage* img = cvLoadImage(\"D:\\\\MGD\\\\image.jpg\");\n",
    "//create new frame for the updated processing\n",
    "IplImage* des = cvCreateImage(cvGetSize(img),IPL_DEPTH_8U,3);\n",
    "\n",
    " /* now we want to code a brightening adjustment process so with every pointer slide to a new value, the images adjustment updated...so we'll use a while(1) loop which is an infinite loop as the code is running and with each loop it checks the pointer value */\n",
    "\n",
    "while(1){\n",
    "\n",
    "//change the brightness of the image\n",
    "cvAddS(img, cvScalar(bright-50,bright-50,bright-50), des);\n",
    "cvShowImage(\"MyWindow\", des); \n",
    "\n",
    "    } \n",
    "}\n",
    "\n",
    "Also you can replace the while(1) loop with a function which you can place it instead of the NULL parameter in the cvCreateTrackbar command...this function is called a CallBack Function, in this case, the main function will act as a while(1) loop which every exexcute loop it will call this function to update it with new value.\n",
    "\n",
    "\n",
    "\n",
    "\n"
   ]
  }
 ],
 "metadata": {
  "anaconda-cloud": {},
  "kernelspec": {
   "display_name": "Python [conda env:anaconda3]",
   "language": "python",
   "name": "conda-env-anaconda3-py"
  },
  "language_info": {
   "codemirror_mode": {
    "name": "ipython",
    "version": 3
   },
   "file_extension": ".py",
   "mimetype": "text/x-python",
   "name": "python",
   "nbconvert_exporter": "python",
   "pygments_lexer": "ipython3",
   "version": "3.5.3"
  }
 },
 "nbformat": 4,
 "nbformat_minor": 1
}
