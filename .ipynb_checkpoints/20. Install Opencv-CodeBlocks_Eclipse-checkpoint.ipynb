{
 "cells": [
  {
   "cell_type": "markdown",
   "metadata": {
    "collapsed": true
   },
   "source": [
    "I think most of the opencv users got tired of many times which they tried to install opencv with eclipse or codeblock.\n",
    "and now i decided to introduce simple and easy method for both of them...and i'm very sure that you will not find any errors any more.\n",
    "Note: if you want any support to install it on your machine....just mail me: m.magdy.isl@gmail.com\n",
    "and now let's begin with the pre-requests.\n",
    "\n",
    "Pre-requests:\n",
    "\n",
    "1. these steps for Windows users and also you can apply them on Linux (both 32/64 bit).\n",
    "2. Install Cmake: http://www.cmake.org/files/v2.8/cmake-2.8.12.2-win32-x86.exe\n",
    "3. Install Mingw: http://sourceforge.net/projects/mingw/files/latest/download?source=files\n",
    "4. Install CodeBlocks (for CodeBlocks Users): Click Here\n",
    "5. Install Eclipse Kepler  (for Eclipse Users): Click Here Choose Eclipse Standard Package\n",
    "6. Opencv Package (I use version 2.4.5)\n",
    "\n",
    "and now for both who want to configure opencv with eclipse or codeblocks.\n",
    "install Opencv to \"C:\\\" directory....you should see the installed package like this WITHOUT the 2 selected folders."
   ]
  },
  {
   "cell_type": "markdown",
   "metadata": {},
   "source": [
    "im\n",
    "Then install Mingw to \"C:\\\" directory and you should see the installed package like this.\n",
    "im\n",
    "and finally...install Cmake and open it like this.\n",
    "im\n",
    "im\n"
   ]
  },
  {
   "cell_type": "markdown",
   "metadata": {},
   "source": [
    "For CodeBlocks users:\n",
    "Download CodeBlocks and install it.\n",
    "then...by Cmake..define \"Where is the source code:\" and \"Where to build the binaries:\" fields.\n",
    "Where is the source code: ......we put the directory of the opencv which we installed.\n",
    "Where to build the binaries:.....we put the directory which we'll put the output from Cmake in it.\n",
    "as follow....\n",
    "i make a folder inside opencv folder and called it \"MakeitCB\"\n",
    "\n",
    "im\n",
    "then click \"Configure\" and select \"CodeBlocks\" as follow....\n",
    "im\n",
    "\n",
    "click Finish and wait till the configuration finishes...then Click Generate and also wait till it finishes.\n",
    "now open the folder \"C:\\opencv\\MakeitCB\" and you will find these files.\n",
    "\n",
    "im\n",
    "im\n",
    "put the binary folder in the Mingw which you installed it in C:\\\n",
    "im\n",
    "im\n",
    "click ok\n",
    "and from Build menu select as follow...\n",
    "im\n",
    "Then Click \"build\" icon.\n",
    "im\n",
    "then wait until it finished...it takes about 15-20 minutes.\n",
    "after that a new folder is created from the \"build\" process\n",
    "im\n",
    "Now..let's create a new C++ Project in CodeBlocks\n",
    "im\n",
    "im\n",
    "im\n",
    "im\n",
    "im\n",
    "im\n",
    "Click Finish...then open the source code file and hit F9 to build and run.\n",
    "im\n",
    "now open the folder of the project we created and locate the .exe file as follow..\n",
    "im\n",
    "Now copy the contents of the folder \"C:\\opencv\\MakeitCB\\install\\bin\" to the .exe file location\n",
    "im\n",
    "Now let's configure CodeBlocks.\n",
    "From \"Settings\" menu > \"Compiler\" > \"Search Directory\" tab > \"Compiler\" tab....and add the following directories as follow..\n",
    "im\n",
    "and then add the \"Linker\" tab beside the \"Compiler\" and add this directory like this....\n",
    "im\n",
    "now open the \"Linker Settings\" and add the contents of \"C:\\opencv\\MakeitCB\\install\\lib\" folder....\n",
    "im\n",
    "now finish and click \"Ok\" and close these boxes.\n",
    "and now let's write testing code>>>"
   ]
  }
 ],
 "metadata": {
  "anaconda-cloud": {},
  "kernelspec": {
   "display_name": "Python [conda env:anaconda3]",
   "language": "python",
   "name": "conda-env-anaconda3-py"
  },
  "language_info": {
   "codemirror_mode": {
    "name": "ipython",
    "version": 3
   },
   "file_extension": ".py",
   "mimetype": "text/x-python",
   "name": "python",
   "nbconvert_exporter": "python",
   "pygments_lexer": "ipython3",
   "version": "3.5.3"
  }
 },
 "nbformat": 4,
 "nbformat_minor": 1
}
