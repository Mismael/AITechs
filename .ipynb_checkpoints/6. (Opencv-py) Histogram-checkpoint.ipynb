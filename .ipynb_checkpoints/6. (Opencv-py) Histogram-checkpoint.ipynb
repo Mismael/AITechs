{
 "cells": [
  {
   "cell_type": "code",
   "execution_count": null,
   "metadata": {
    "collapsed": true
   },
   "outputs": [],
   "source": [
    "import cv2\n",
    "import matplotlib.pyplot as plt\n",
    "\n",
    "src = cv2.imread(\"//home//mgd-pc//Downloads//color-balls.jpg\")\n",
    "nCanal = src.shape[2];\n",
    "\n",
    "b_plane, g_plane, r_plane =  cv2.split(src)\n",
    "img = [b_plane, g_plane, r_plane]\n",
    "\n",
    "\n",
    "histr = cv2.calcHist([src],[0],None,[256],[0,256]) \n",
    "plt.plot(histr,color = 'b')\n",
    "plt.xlim([0,256])\n",
    "plt.show()\n",
    "\n",
    "histr = cv2.calcHist([src],[1],None,[256],[0,256]) \n",
    "plt.plot(histr,color = 'g')\n",
    "plt.xlim([0,256])\n",
    "plt.show()\n",
    "\n",
    "histr = cv2.calcHist([src],[2],None,[256],[0,256]) \n",
    "plt.plot(histr,color = 'r')\n",
    "plt.xlim([0,256])\n",
    "plt.show()"
   ]
  }
 ],
 "metadata": {
  "anaconda-cloud": {},
  "kernelspec": {
   "display_name": "Python [conda env:anaconda3]",
   "language": "python",
   "name": "conda-env-anaconda3-py"
  },
  "language_info": {
   "codemirror_mode": {
    "name": "ipython",
    "version": 3
   },
   "file_extension": ".py",
   "mimetype": "text/x-python",
   "name": "python",
   "nbconvert_exporter": "python",
   "pygments_lexer": "ipython3",
   "version": "3.5.4"
  }
 },
 "nbformat": 4,
 "nbformat_minor": 1
}
