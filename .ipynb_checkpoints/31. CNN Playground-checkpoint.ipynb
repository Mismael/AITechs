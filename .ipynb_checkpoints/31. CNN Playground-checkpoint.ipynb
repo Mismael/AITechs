{
 "cells": [
  {
   "cell_type": "code",
   "execution_count": 1,
   "metadata": {},
   "outputs": [
    {
     "name": "stderr",
     "output_type": "stream",
     "text": [
      "Using TensorFlow backend.\n"
     ]
    }
   ],
   "source": [
    "#imports\n",
    "import cv2\n",
    "import numpy as np\n",
    "import collections\n",
    "from matplotlib import pyplot as plt\n",
    "from keras.models import load_model\n",
    "import keras.backend as K\n",
    "from keras.models import Sequential\n",
    "from keras.layers import Convolution2D\n",
    "from keras.layers import MaxPooling2D\n",
    "from keras.layers import Flatten\n",
    "from keras.layers import Dense"
   ]
  },
  {
   "cell_type": "code",
   "execution_count": 2,
   "metadata": {},
   "outputs": [
    {
     "name": "stderr",
     "output_type": "stream",
     "text": [
      "/home/mgd-pc/anaconda3/lib/python3.5/site-packages/keras/models.py:318: UserWarning: Error in loading the saved optimizer state. As a result, your model is starting with a freshly initialized optimizer.\n",
      "  warnings.warn('Error in loading the saved optimizer '\n"
     ]
    }
   ],
   "source": [
    "classifier = load_model('./Trained Models and Classifiers/ar_numbers_v2.h5')\n",
    "classifier.compile(loss= 'categorical_crossentropy', optimizer='adam',metrics=['accuracy'])"
   ]
  },
  {
   "cell_type": "code",
   "execution_count": 3,
   "metadata": {
    "scrolled": true
   },
   "outputs": [
    {
     "data": {
      "text/plain": [
       "<tf.Tensor 'max_pooling2d_2/MaxPool:0' shape=(?, 6, 6, 16) dtype=float32>"
      ]
     },
     "execution_count": 3,
     "metadata": {},
     "output_type": "execute_result"
    }
   ],
   "source": [
    "classifier.layers[3].output"
   ]
  },
  {
   "cell_type": "code",
   "execution_count": 7,
   "metadata": {},
   "outputs": [
    {
     "data": {
      "text/plain": [
       "<matplotlib.image.AxesImage at 0x7f35825e4b38>"
      ]
     },
     "execution_count": 7,
     "metadata": {},
     "output_type": "execute_result"
    },
    {
     "data": {
      "image/png": "[encoded data removed]",
      "text/plain": [
       "<matplotlib.figure.Figure at 0x7f358278e1d0>"
      ]
     },
     "metadata": {},
     "output_type": "display_data"
    }
   ],
   "source": [
    "activation_layers = []\n",
    "im = cv2.imread(\"./assets/img/test4.png\")\n",
    "plt.imshow(im)"
   ]
  },
  {
   "cell_type": "code",
   "execution_count": 8,
   "metadata": {},
   "outputs": [],
   "source": [
    "im = cv2.resize(im, (32 , 32))\n",
    "#im = im.reshape(1,32,32,3) \n",
    "im = np.expand_dims(im,axis=0)"
   ]
  },
  {
   "cell_type": "code",
   "execution_count": 9,
   "metadata": {
    "scrolled": true
   },
   "outputs": [
    {
     "name": "stderr",
     "output_type": "stream",
     "text": [
      "/home/mgd-pc/.local/lib/python3.5/site-packages/ipykernel/__main__.py:2: UserWarning: Update your `Conv2D` call to the Keras 2 API: `Conv2D(5, (3, 3), input_shape=(32, 32, 3..., activation=\"relu\", weights=[array([[[...)`\n",
      "  from ipykernel import kernelapp as app\n",
      "/home/mgd-pc/.local/lib/python3.5/site-packages/ipykernel/__main__.py:6: UserWarning: Update your `Conv2D` call to the Keras 2 API: `Conv2D(16, (3, 3), activation=\"relu\", weights=[array([[[...)`\n",
      "/home/mgd-pc/.local/lib/python3.5/site-packages/ipykernel/__main__.py:12: UserWarning: Update your `Dense` call to the Keras 2 API: `Dense(activation=\"relu\", weights=[array([[-..., units=780)`\n",
      "/home/mgd-pc/.local/lib/python3.5/site-packages/ipykernel/__main__.py:14: UserWarning: Update your `Dense` call to the Keras 2 API: `Dense(activation=\"relu\", weights=[array([[-..., units=300)`\n",
      "/home/mgd-pc/.local/lib/python3.5/site-packages/ipykernel/__main__.py:16: UserWarning: Update your `Dense` call to the Keras 2 API: `Dense(activation=\"relu\", weights=[array([[-..., units=120)`\n",
      "/home/mgd-pc/.local/lib/python3.5/site-packages/ipykernel/__main__.py:18: UserWarning: Update your `Dense` call to the Keras 2 API: `Dense(activation=\"softmax\", weights=[array([[-..., units=10)`\n"
     ]
    }
   ],
   "source": [
    "classifier2 = Sequential()\n",
    "classifier2.add(Convolution2D(5, 3, 3,weights = classifier.layers[0].get_weights() , input_shape = (32,32, 3), activation = 'relu'))\n",
    "activation_layers.append(classifier2.predict(im))\n",
    "classifier2.add(MaxPooling2D( pool_size = (2, 2), weights = classifier.layers[1].get_weights(),))\n",
    "activation_layers.append(classifier2.predict(im))\n",
    "classifier2.add(Convolution2D(16, 3, 3,weights = classifier.layers[2].get_weights(), activation = 'relu'))\n",
    "activation_layers.append(classifier2.predict(im))\n",
    "classifier2.add(MaxPooling2D(pool_size = (2, 2),weights = classifier.layers[3].get_weights()))\n",
    "activation_layers.append(classifier2.predict(im))\n",
    "classifier2.add(Flatten(weights = classifier.layers[4].get_weights()))\n",
    "activation_layers.append(classifier2.predict(im))\n",
    "classifier2.add(Dense(output_dim = 780, weights = classifier.layers[5].get_weights(), activation = 'relu'))\n",
    "activation_layers.append(classifier2.predict(im))\n",
    "classifier2.add(Dense(output_dim = 300, weights = classifier.layers[6].get_weights(), activation = 'relu')) \n",
    "activation_layers.append(classifier2.predict(im))\n",
    "classifier2.add(Dense(output_dim = 120, weights = classifier.layers[7].get_weights(), activation = 'relu')) \n",
    "activation_layers.append(classifier2.predict(im))\n",
    "classifier2.add(Dense(output_dim = 10,  weights = classifier.layers[8].get_weights(), activation = 'softmax'))\n",
    "activation_layers.append(classifier2.predict(im))"
   ]
  },
  {
   "cell_type": "code",
   "execution_count": 10,
   "metadata": {},
   "outputs": [
    {
     "data": {
      "text/plain": [
       "5"
      ]
     },
     "execution_count": 10,
     "metadata": {},
     "output_type": "execute_result"
    }
   ],
   "source": [
    "len(activation_layers[0][0][0][0])"
   ]
  },
  {
   "cell_type": "code",
   "execution_count": 11,
   "metadata": {},
   "outputs": [
    {
     "data": {
      "text/plain": [
       "[array([[-0.04899361, -0.09488646, -0.07243122, ..., -0.065243  ,\n",
       "         -0.05769322,  0.01954043],\n",
       "        [-0.02067185, -0.17312999,  0.14644486, ...,  0.04423641,\n",
       "         -0.07005584,  0.26231784],\n",
       "        [ 0.01493338, -0.00346561,  0.02209696, ...,  0.11943422,\n",
       "         -0.17197897,  0.03959908],\n",
       "        ...,\n",
       "        [ 0.15811108,  0.02853418,  0.03404924, ..., -0.05240752,\n",
       "          0.07884821, -0.10329922],\n",
       "        [-0.02227975, -0.00987519, -0.09845573, ..., -0.09917217,\n",
       "          0.24481931, -0.14958283],\n",
       "        [ 0.04935154, -0.02109713,  0.00831459, ...,  0.02962652,\n",
       "         -0.01561112,  0.02217913]], dtype=float32),\n",
       " array([-5.78917051e-03, -1.56672932e-02, -8.62269923e-02, -6.93267360e-02,\n",
       "        -1.08169451e-01, -8.05892348e-02, -1.27510326e-02, -2.59574167e-02,\n",
       "        -5.10279909e-02, -1.57301631e-02, -7.46214576e-03, -1.67345963e-02,\n",
       "        -8.27804282e-02, -8.50791037e-02, -7.88761862e-03, -1.13992542e-01,\n",
       "        -1.56099750e-02, -5.21336570e-02, -6.07868806e-02, -7.12957680e-02,\n",
       "        -6.66831620e-03,  4.86037275e-03, -5.53594977e-02, -8.19158629e-02,\n",
       "        -3.27750482e-02,  4.61704433e-02, -1.20038696e-01,  1.80767868e-02,\n",
       "        -3.85490805e-02, -3.41879651e-02, -4.28247824e-02,  5.77892526e-04,\n",
       "        -9.62457880e-02,  7.48876855e-03, -7.84936856e-05, -6.77227825e-02,\n",
       "        -9.64904763e-03, -2.74706818e-02, -9.61823240e-02,  3.56074013e-02,\n",
       "        -1.12761654e-01, -6.85294420e-02, -5.81491478e-02,  1.91797258e-03,\n",
       "        -6.44934028e-02,  2.24065091e-02, -9.61603969e-02, -7.68433660e-02,\n",
       "         9.59704537e-03,  7.62216076e-02, -8.53103120e-03,  8.25288817e-02,\n",
       "         3.79831232e-02, -1.05369661e-03, -5.85311987e-02, -1.37648461e-02,\n",
       "        -3.99439037e-02, -8.10942054e-02, -8.30410346e-02, -2.03227457e-02,\n",
       "        -2.05835178e-02, -9.83580947e-02, -3.96822542e-02, -1.34605160e-02,\n",
       "         3.82006988e-02, -3.39796171e-02, -2.94149201e-02, -9.86242071e-02,\n",
       "        -3.29438113e-02, -5.45594543e-02, -2.48690229e-02,  5.02104359e-03,\n",
       "        -2.46632304e-02,  1.97756868e-02, -3.37013826e-02, -3.22846025e-02,\n",
       "        -1.69174019e-02, -1.97482351e-02, -7.83391595e-02, -1.01112016e-02,\n",
       "        -1.31433740e-01, -4.40448262e-02,  2.21808441e-02, -5.18899225e-02,\n",
       "        -2.55254582e-02,  1.86786205e-02, -1.10252246e-01, -8.64925049e-03,\n",
       "        -4.24234979e-02, -1.15812849e-02, -2.96511278e-02,  5.78046665e-02,\n",
       "        -7.32868463e-02, -7.42595121e-02, -2.95332307e-03, -8.00248384e-02,\n",
       "        -3.02804094e-02,  5.39806858e-03, -9.96000022e-02, -4.08724835e-03,\n",
       "        -8.24108422e-02,  4.45075706e-02,  1.84070505e-02, -4.82075438e-02,\n",
       "        -3.05831563e-02, -7.36470819e-02, -4.82657552e-02, -9.93728116e-02,\n",
       "        -4.07684036e-02,  2.75425576e-02, -1.18268477e-02, -7.70351067e-02,\n",
       "         6.10504895e-02, -3.50571238e-02, -3.69736142e-02, -8.90943706e-02,\n",
       "        -6.19167015e-02,  2.17638956e-03,  4.44184020e-02, -4.34062034e-02,\n",
       "        -1.18032351e-01, -6.28974587e-02,  1.27005680e-02, -1.15493320e-01,\n",
       "        -4.22147810e-02, -1.05491117e-01, -3.99694741e-02, -1.72995590e-02,\n",
       "        -7.18813716e-03, -1.02941915e-01, -6.25363039e-03,  7.42882863e-02,\n",
       "        -6.38460219e-02,  3.58484648e-02, -1.12983100e-02, -7.81710818e-02,\n",
       "        -6.92628231e-03, -4.97464649e-03,  6.50012121e-02, -4.84873243e-02,\n",
       "         4.31268439e-02, -3.31752002e-02, -3.12425196e-02, -4.07068953e-02,\n",
       "        -1.01582492e-02, -2.19866317e-02,  4.04013582e-02, -4.11295146e-02,\n",
       "        -5.02926745e-02,  2.69933920e-02, -1.27917537e-02, -5.92698678e-02,\n",
       "        -4.89909872e-02,  7.70687982e-02, -1.80304446e-03,  2.53771227e-02,\n",
       "        -5.25613241e-02, -6.43734038e-02, -6.18655421e-02, -1.31500050e-01,\n",
       "        -9.53211337e-02, -9.01900511e-03, -2.46639196e-02,  1.75464470e-02,\n",
       "         4.89229411e-02,  3.69439530e-03, -7.80639127e-02, -3.54364589e-02,\n",
       "        -7.99280480e-02,  5.81436977e-02, -2.87937075e-02, -6.34593368e-02,\n",
       "        -7.16613606e-02,  1.74451564e-02, -6.20232001e-02, -4.91486005e-02,\n",
       "        -2.70228442e-02, -8.65126401e-02, -2.34256964e-02,  2.45066825e-02,\n",
       "         4.42435443e-02, -1.04657173e-01, -7.19092861e-02, -3.63383703e-02,\n",
       "        -4.81728390e-02, -9.99072939e-03, -3.50114107e-02, -7.87936747e-02,\n",
       "        -6.23639189e-02,  3.64971533e-02, -1.12850114e-03, -6.69475496e-02,\n",
       "        -4.39084433e-02,  3.36425602e-02, -4.02082019e-02, -5.64538278e-02,\n",
       "        -6.92799762e-02, -1.04754064e-02, -6.76997975e-02, -3.18972059e-02,\n",
       "        -3.49414349e-02,  4.99500008e-03,  2.10294556e-02, -2.75576562e-02,\n",
       "        -4.66147177e-02, -1.12654366e-01, -2.45675724e-02, -4.08837013e-03,\n",
       "        -7.34287202e-02, -2.10929029e-02, -4.36463319e-02,  6.21918924e-02,\n",
       "        -5.72207645e-02, -6.59145787e-02, -8.17051157e-02, -9.12762731e-02,\n",
       "        -2.17318460e-02, -4.56057712e-02, -2.78705871e-03, -8.44310131e-03,\n",
       "        -7.32477084e-02,  6.81371486e-04, -7.60470033e-02, -2.02601925e-02,\n",
       "        -4.21571210e-02, -6.73927367e-02,  1.70004163e-02, -2.93137003e-02,\n",
       "        -1.17683951e-02, -1.73625052e-02,  1.02165140e-01,  7.08159208e-02,\n",
       "        -2.58688629e-02, -8.67950693e-02,  1.37544805e-02, -6.25777021e-02,\n",
       "        -6.34199306e-02, -6.71473145e-02, -2.16890313e-02, -1.36277489e-02,\n",
       "        -2.25206204e-02, -4.66512591e-02, -8.83684754e-02, -4.89565432e-02,\n",
       "        -1.88605580e-02, -4.63181399e-02, -4.51053753e-02, -8.82877782e-02,\n",
       "        -7.37720355e-02, -3.82167771e-02, -2.72907820e-02, -6.75313920e-02,\n",
       "         7.32774660e-02,  1.78811047e-02, -4.51660864e-02,  1.02818064e-01,\n",
       "        -9.83154997e-02,  3.32501754e-02, -1.40856300e-02, -2.49270666e-02,\n",
       "        -7.81922340e-02, -1.20601188e-02, -1.55576110e-01,  5.63375168e-02,\n",
       "        -4.85105142e-02, -6.00585490e-02, -2.58920137e-02, -4.59720753e-02,\n",
       "         4.84720916e-02, -1.50537025e-02, -7.42174089e-02, -6.64307475e-02,\n",
       "        -1.14582211e-01, -4.68729027e-02, -8.14648271e-02, -4.79754247e-02,\n",
       "        -3.29567939e-02, -1.40207689e-02, -5.02446666e-02, -4.54876684e-02,\n",
       "        -3.92725170e-02, -1.64696369e-02, -7.00297579e-02, -2.82859299e-02,\n",
       "        -5.62593229e-02, -2.84427572e-02,  5.46035431e-02, -9.26440880e-02,\n",
       "         2.43139602e-02, -4.19096947e-02, -5.48072625e-03,  2.45906636e-02,\n",
       "        -9.31207985e-02, -6.24426864e-02,  5.22669703e-02, -5.13883084e-02,\n",
       "        -9.56564269e-04, -4.22233045e-02, -2.27248180e-03,  7.87054077e-02,\n",
       "        -7.31383786e-02, -9.38218012e-02, -4.41535711e-02, -3.12584564e-02,\n",
       "         9.27531812e-03, -2.22977195e-02, -5.72726540e-02, -6.02210350e-02,\n",
       "        -5.73712066e-02,  5.02722920e-04, -3.62049937e-02, -2.89880135e-03,\n",
       "        -1.27343275e-02,  1.61499605e-02, -3.58304605e-02, -1.19677655e-01,\n",
       "        -9.38937217e-02,  5.86235486e-02, -2.92931050e-02, -5.34919798e-02,\n",
       "        -6.14870563e-02, -1.04364613e-03, -7.29096085e-02, -9.64048505e-02,\n",
       "        -7.64282644e-02, -9.21949223e-02, -2.23455410e-02, -5.05259484e-02,\n",
       "         3.41492258e-02, -3.19212885e-03,  4.83539775e-02, -4.09797058e-02,\n",
       "        -4.37229015e-02, -3.35700959e-02,  4.94521186e-02, -4.76241447e-02,\n",
       "        -1.25296503e-01, -1.43941622e-02, -2.60467231e-02, -3.00404802e-02,\n",
       "         6.82235360e-02, -4.12401110e-02, -4.36184369e-02, -5.95839396e-02,\n",
       "        -2.26963386e-02, -6.44245371e-02, -4.56542596e-02, -8.84794891e-02,\n",
       "        -6.88915104e-02, -7.24923983e-02, -2.91019622e-02, -3.03303846e-03,\n",
       "         1.49103310e-02,  8.07923377e-02, -5.86749837e-02, -5.20387292e-02,\n",
       "        -7.21722543e-02, -1.83288194e-02, -6.53965697e-02, -5.71330860e-02,\n",
       "        -3.35851721e-02,  3.58899347e-02,  2.34144758e-02, -3.06623131e-02,\n",
       "        -2.09417939e-03,  1.27211139e-02,  4.87230420e-02, -2.97808703e-02,\n",
       "        -2.96265651e-02, -7.07457587e-02,  9.87085793e-03,  3.48270610e-02,\n",
       "         2.10150182e-02, -4.99026254e-02, -6.57962412e-02,  6.43143058e-02,\n",
       "        -3.61054465e-02, -3.41506749e-02, -6.82018325e-02, -3.35600674e-02,\n",
       "        -6.66771457e-02, -5.13553061e-03, -5.65201417e-02, -8.18527043e-02,\n",
       "        -6.63507776e-03, -3.59706692e-02, -4.38757502e-02, -3.16268094e-02,\n",
       "         1.15501555e-02,  5.16768172e-02, -6.54814094e-02, -6.13618046e-02,\n",
       "        -2.52305754e-02, -1.00137033e-01, -3.69886756e-02, -7.82222766e-03,\n",
       "        -4.75266278e-02, -7.27233663e-02, -7.51497671e-02, -1.00350752e-02,\n",
       "        -9.33301896e-02, -4.37414646e-02, -8.89127329e-03, -3.05482950e-02,\n",
       "        -2.00335160e-02, -1.11154042e-01, -9.12304819e-02, -9.00561363e-02,\n",
       "         3.21804383e-03,  5.49323298e-02, -2.00780723e-02,  6.27319589e-02,\n",
       "         2.35577784e-02, -4.91360649e-02,  5.30135520e-02,  1.27283158e-02,\n",
       "         3.61238187e-03, -8.83981958e-03, -2.15086322e-02, -5.10678254e-02,\n",
       "        -9.77496356e-02,  5.73797198e-03, -5.28025329e-02, -3.96319479e-02,\n",
       "        -7.81497955e-02, -1.18712652e-02, -2.21991278e-02, -5.78412712e-02,\n",
       "        -5.53439297e-02, -5.82395419e-02, -8.38898867e-02, -5.32459021e-02,\n",
       "        -1.97337586e-02, -2.05384549e-02,  1.27030397e-02, -7.06994087e-02,\n",
       "        -1.51010409e-01, -1.97764616e-02, -2.16875225e-03, -1.03882380e-01,\n",
       "        -8.61281902e-02,  8.97412002e-02,  3.81278880e-02,  5.40083647e-02,\n",
       "        -4.97334749e-02, -4.75139730e-02, -4.58511449e-02, -8.86384845e-02,\n",
       "        -6.12868145e-02, -2.37203036e-02, -1.35782454e-03, -1.05607942e-01,\n",
       "        -9.24709588e-02, -1.13638625e-01, -8.18882063e-02, -5.45347594e-02,\n",
       "        -9.59442332e-02, -7.47810071e-03,  2.05550902e-02,  1.31509632e-01,\n",
       "         1.21117104e-02,  3.50399804e-03, -4.84418944e-02, -7.11587667e-02,\n",
       "        -2.97604501e-02, -1.51500031e-02,  4.45680507e-02, -3.54255661e-02,\n",
       "        -1.93418525e-02,  3.12361717e-02, -4.27996600e-03, -3.01237428e-03,\n",
       "        -7.18050227e-02, -5.76015189e-02,  9.16953944e-03, -6.20812662e-02,\n",
       "        -2.42129043e-02, -7.71316886e-02,  4.33331309e-03,  2.08714996e-02,\n",
       "        -1.40719004e-02, -4.59776483e-02,  1.89139191e-02,  6.91853762e-02,\n",
       "        -1.87598784e-02, -3.91460583e-02,  4.49038595e-02, -6.81672692e-02,\n",
       "         1.28661282e-02, -5.57248155e-03,  8.83154338e-04, -2.83869747e-02,\n",
       "        -2.15240964e-03,  1.04522351e-02, -3.14621627e-02, -2.75358204e-02,\n",
       "        -3.19522358e-02, -6.24193661e-02, -8.40534344e-02, -1.02781236e-01,\n",
       "         6.82282448e-03,  4.37840149e-02, -4.87079509e-02, -2.12217867e-02,\n",
       "        -3.35678980e-02, -2.44156886e-02, -1.48928072e-02, -9.09859221e-03,\n",
       "         3.69680077e-02,  1.59943514e-02, -8.83909762e-02, -2.76933666e-02,\n",
       "        -7.47475550e-02, -2.69316807e-02, -7.75400475e-02, -7.37697706e-02,\n",
       "         3.93665908e-03, -1.08757891e-01,  8.99158325e-03, -1.67555474e-02,\n",
       "        -7.03668371e-02,  6.20767958e-02,  4.43666726e-02, -8.10834542e-02,\n",
       "        -3.44196483e-02, -5.82499951e-02, -1.08323850e-01, -1.86465606e-02,\n",
       "        -3.45198028e-02, -8.60523432e-02, -4.36069109e-02, -3.15979198e-02,\n",
       "         1.79524776e-02, -5.64748840e-03,  1.12758367e-03, -1.02438457e-01,\n",
       "         3.07874046e-02, -4.12992500e-02, -6.91312691e-03,  1.25085749e-02,\n",
       "        -2.44103074e-02, -8.02536774e-03, -5.75817451e-02, -1.03977683e-03,\n",
       "        -2.68986803e-02, -1.78829674e-02, -6.39482364e-02, -4.76403832e-02,\n",
       "        -2.56689452e-02,  3.83168012e-02, -1.25582144e-02,  4.09572795e-02,\n",
       "         1.04831360e-01, -4.70542349e-02,  2.61130519e-02,  1.68226368e-03,\n",
       "        -6.85071349e-02, -2.66373307e-02,  8.76051933e-02, -2.58628279e-02,\n",
       "        -6.34364262e-02,  7.54160210e-02,  2.74685342e-02,  1.15075372e-02,\n",
       "        -5.81954755e-02, -1.38575602e-02, -1.40248835e-02, -1.09972328e-01,\n",
       "        -1.03747420e-01, -2.67891008e-02, -1.32173359e-01, -2.18748562e-02,\n",
       "        -6.58078864e-02, -2.81858351e-02, -9.76787135e-02, -9.22793336e-03,\n",
       "        -2.57417224e-02, -9.36631933e-02,  2.39064787e-02,  4.59897742e-02,\n",
       "        -4.04263362e-02, -7.10470378e-02, -4.08840664e-02,  4.45981473e-02,\n",
       "        -6.97121993e-02, -4.00752090e-02,  1.55951167e-02,  5.67181082e-03,\n",
       "         2.47362163e-02, -2.22637728e-02, -6.05094954e-02, -4.12225835e-02,\n",
       "         2.01063454e-02,  1.61827391e-03, -5.65316789e-02, -5.40296882e-02,\n",
       "        -5.61716110e-02,  5.21217407e-05,  5.26557416e-02, -1.03214078e-01,\n",
       "         5.69967031e-02, -5.33512495e-02,  2.09287908e-02, -4.45668846e-02,\n",
       "        -4.06648666e-02, -4.91081327e-02, -2.50875615e-02, -6.54971078e-02,\n",
       "        -5.56226075e-02, -5.39130531e-02,  4.84695956e-02, -6.02485053e-02,\n",
       "        -1.14175752e-01,  2.14187317e-02,  7.36228144e-03, -6.85969964e-02,\n",
       "        -3.85105796e-02,  2.10406799e-02,  1.72060952e-02, -3.04421764e-02,\n",
       "         3.22568007e-02, -5.54852411e-02,  1.41621206e-03, -2.93162800e-02,\n",
       "        -1.20723462e-02,  4.56186719e-02, -7.53499866e-02, -8.48423541e-02,\n",
       "        -8.67742449e-02, -1.85515545e-02, -5.96022531e-02, -5.99571764e-02,\n",
       "        -8.22027624e-02, -4.01415564e-02, -7.73929618e-03, -1.37443155e-01,\n",
       "        -7.34301060e-02, -6.64347261e-02, -6.30806684e-02, -1.26587851e-02,\n",
       "        -7.07556531e-02, -4.73409668e-02, -3.29188146e-02, -5.85586764e-02,\n",
       "         6.36983663e-02, -3.79185937e-03,  2.86958888e-02, -4.74826992e-02,\n",
       "         6.07538819e-02, -6.53022900e-02, -1.86785664e-02, -5.64205572e-02,\n",
       "        -2.65473574e-02, -2.50902716e-02, -4.52855900e-02, -9.58345160e-02,\n",
       "        -5.14172465e-02, -1.20704144e-01,  2.55481061e-02, -7.03322589e-02,\n",
       "        -8.44004601e-02, -4.12504971e-02,  2.62438860e-02, -3.38205695e-02,\n",
       "         2.86928602e-02,  7.16494303e-03, -2.99908184e-02, -1.66204777e-02,\n",
       "        -1.06699362e-01, -5.96462786e-02, -7.44392350e-02, -4.76898365e-02,\n",
       "        -1.27454326e-01, -3.18370461e-02, -1.03648059e-01, -7.54591729e-03,\n",
       "        -1.08070612e-01, -3.88201959e-02,  4.29090224e-02, -7.30122775e-02,\n",
       "         7.76088703e-03, -1.07028522e-01,  4.36547911e-03,  4.92832139e-02,\n",
       "        -5.64503819e-02, -6.98446035e-02, -2.87489519e-02, -4.39951196e-02,\n",
       "        -2.70561315e-02, -1.45813162e-02, -5.59958592e-02, -9.80753358e-03,\n",
       "         1.11717246e-02,  9.06007066e-02, -1.53165311e-02, -5.14286496e-02,\n",
       "        -1.15158841e-01, -5.61374947e-02, -4.03539799e-02, -9.17686522e-02,\n",
       "        -2.22350266e-02,  2.36341991e-02, -4.18772213e-02, -8.67632404e-02,\n",
       "        -3.36532108e-02, -9.45101902e-02,  1.46683576e-02,  2.02503726e-02,\n",
       "         4.58601816e-03,  3.83260138e-02, -4.97282110e-02, -1.16021987e-02,\n",
       "        -5.03932536e-02, -1.02466084e-02, -5.46323135e-02,  4.69059013e-02,\n",
       "        -8.05717781e-02, -3.39418314e-02,  1.94602069e-02, -3.06477007e-02,\n",
       "         2.77507752e-02, -2.53126379e-02, -8.45004395e-02,  6.14484176e-02,\n",
       "        -3.41883488e-02, -1.65769458e-01, -6.19174205e-02, -2.29434241e-02,\n",
       "        -2.81690732e-02, -7.11961836e-02,  7.03744963e-02, -6.54294267e-02,\n",
       "        -6.26199096e-02,  6.28154427e-02,  7.44618922e-02, -4.65574414e-02,\n",
       "        -4.03216593e-02, -2.72246730e-02, -5.10342978e-02, -4.02537175e-02,\n",
       "        -9.78762358e-02, -4.47650068e-02,  1.37823531e-02,  2.58837137e-02,\n",
       "        -1.64582245e-02,  5.14438190e-03, -6.57645315e-02, -7.08914474e-02,\n",
       "        -6.58450462e-03, -4.96376120e-02, -5.24306409e-02, -1.54385073e-02,\n",
       "        -7.53182769e-02, -1.02876909e-01, -4.18904535e-02, -4.90387566e-02,\n",
       "        -3.42818052e-02, -1.85031984e-02,  9.05398466e-03, -1.21024221e-01,\n",
       "        -1.18640557e-01, -5.43390065e-02,  1.60676502e-02,  7.67074302e-02,\n",
       "        -1.34929150e-01,  3.72194289e-03, -6.22754805e-02, -1.06440395e-01,\n",
       "        -3.62542272e-02, -9.56061184e-02, -2.89734863e-02, -4.10091020e-02,\n",
       "        -8.15303102e-02, -1.97306182e-02,  1.47899780e-02, -4.34628986e-02,\n",
       "        -2.80445106e-02,  7.55813718e-03, -7.55881658e-03, -1.14375949e-02],\n",
       "       dtype=float32)]"
      ]
     },
     "execution_count": 11,
     "metadata": {},
     "output_type": "execute_result"
    }
   ],
   "source": [
    "layer = classifier.layers[5]\n",
    "layer.get_weights()"
   ]
  },
  {
   "cell_type": "code",
   "execution_count": 12,
   "metadata": {},
   "outputs": [],
   "source": [
    "def visual_activations (i):\n",
    "    activations = cv2.cvtColor(activation_layers[i][0][0], cv2.COLOR_GRAY2RGB)\n",
    "    heatmapImage = cv2.applyColorMap(activations,cv2.COLORMAP_JET) \n",
    "    plt.figure()\n",
    "    plt.figure(figsize=(18, 16), dpi= 80, facecolor='w', edgecolor='k')\n",
    "    heatmapImage = cv2.resize(heatmapImage, (heatmapImage.shape[1] ,heatmapImage.shape[0]*4 ))\n",
    "    plt.imshow(heatmapImage)"
   ]
  },
  {
   "cell_type": "code",
   "execution_count": 13,
   "metadata": {},
   "outputs": [
    {
     "data": {
      "text/plain": [
       "(30, 30, 5)"
      ]
     },
     "execution_count": 13,
     "metadata": {},
     "output_type": "execute_result"
    }
   ],
   "source": [
    "np.squeeze(activation_layers[0], axis=0).shape\n",
    "\n"
   ]
  },
  {
   "cell_type": "code",
   "execution_count": 14,
   "metadata": {},
   "outputs": [
    {
     "data": {
      "text/plain": [
       "array([[  0.     ,   0.     , 517.1319 , 215.29617,   0.     ],\n",
       "       [  0.     ,   0.     , 517.1319 , 215.29617,   0.     ],\n",
       "       [  0.     ,   0.     , 517.1319 , 215.29617,   0.     ],\n",
       "       [  0.     ,   0.     , 517.1319 , 215.29617,   0.     ],\n",
       "       [  0.     ,   0.     , 517.1319 , 215.29617,   0.     ],\n",
       "       [  0.     ,   0.     , 517.1319 , 215.29617,   0.     ],\n",
       "       [  0.     ,   0.     , 517.1319 , 215.29617,   0.     ],\n",
       "       [  0.     ,   0.     , 517.1319 , 215.29617,   0.     ],\n",
       "       [  0.     ,   0.     , 517.1319 , 215.29617,   0.     ],\n",
       "       [  0.     ,   0.     , 517.1319 , 215.29617,   0.     ],\n",
       "       [  0.     ,   0.     , 517.1319 , 215.29617,   0.     ],\n",
       "       [  0.     ,   0.     , 517.1319 , 215.29617,   0.     ],\n",
       "       [  0.     ,   0.     , 517.1319 , 215.29617,   0.     ],\n",
       "       [  0.     ,   0.     , 517.1319 , 215.29617,   0.     ],\n",
       "       [  0.     ,   0.     , 517.1319 , 215.29617,   0.     ],\n",
       "       [  0.     ,   0.     , 517.1319 , 215.29617,   0.     ],\n",
       "       [  0.     ,   0.     , 517.1319 , 215.29617,   0.     ],\n",
       "       [  0.     ,   0.     , 517.1319 , 215.29617,   0.     ],\n",
       "       [  0.     ,   0.     , 517.1319 , 215.29617,   0.     ],\n",
       "       [  0.     ,   0.     , 517.1319 , 215.29617,   0.     ],\n",
       "       [  0.     ,   0.     , 517.1319 , 215.29617,   0.     ],\n",
       "       [  0.     ,   0.     , 517.1319 , 215.29617,   0.     ],\n",
       "       [  0.     ,   0.     , 517.1319 , 215.29617,   0.     ],\n",
       "       [  0.     ,   0.     , 517.1319 , 215.29617,   0.     ],\n",
       "       [  0.     ,   0.     , 517.1319 , 215.29617,   0.     ],\n",
       "       [  0.     ,   0.     , 517.1319 , 215.29617,   0.     ],\n",
       "       [  0.     ,   0.     , 517.1319 , 215.29617,   0.     ],\n",
       "       [  0.     ,   0.     , 517.1319 , 215.29617,   0.     ],\n",
       "       [  0.     ,   0.     , 517.1319 , 215.29617,   0.     ],\n",
       "       [  0.     ,   0.     , 517.1319 , 215.29617,   0.     ]],\n",
       "      dtype=float32)"
      ]
     },
     "execution_count": 14,
     "metadata": {},
     "output_type": "execute_result"
    }
   ],
   "source": [
    "activation_layers[0][0][0]"
   ]
  },
  {
   "cell_type": "code",
   "execution_count": 17,
   "metadata": {},
   "outputs": [],
   "source": [
    "activation_map = []\n",
    "for i in range(30):\n",
    "    for j in range(30):\n",
    "        activation_map.append(activation_layers[0][0][i][j][4])\n",
    "            "
   ]
  },
  {
   "cell_type": "code",
   "execution_count": 18,
   "metadata": {
    "scrolled": true
   },
   "outputs": [
    {
     "data": {
      "text/plain": [
       "True"
      ]
     },
     "execution_count": 18,
     "metadata": {},
     "output_type": "execute_result"
    },
    {
     "data": {
      "image/png": "[encoded data removed]",
      "text/plain": [
       "<matplotlib.figure.Figure at 0x7f3531174748>"
      ]
     },
     "metadata": {},
     "output_type": "display_data"
    }
   ],
   "source": [
    "plt.imshow(np.array(activation_map).reshape(-1,30), cmap = 'gray')\n",
    "im = cv2.resize(np.array(activation_map).reshape(-1,30) , (500,500))\n",
    "cv2.imwrite(\"activ4.png\",im)"
   ]
  },
  {
   "cell_type": "code",
   "execution_count": 19,
   "metadata": {},
   "outputs": [],
   "source": [
    "layer = classifier.layers[0]"
   ]
  },
  {
   "cell_type": "code",
   "execution_count": 20,
   "metadata": {},
   "outputs": [
    {
     "data": {
      "text/plain": [
       "<tf.Tensor 'conv2d_1/Relu:0' shape=(?, 30, 30, 5) dtype=float32>"
      ]
     },
     "execution_count": 20,
     "metadata": {},
     "output_type": "execute_result"
    }
   ],
   "source": [
    "classifier.layers[0].output"
   ]
  },
  {
   "cell_type": "code",
   "execution_count": 21,
   "metadata": {},
   "outputs": [
    {
     "name": "stdout",
     "output_type": "stream",
     "text": [
      "[[ 0.19663215 -0.01344945  0.01103584  0.15776472 -0.2787637 ]\n",
      " [-0.09259358  0.37677458  0.30382907  0.05326851 -0.36664176]\n",
      " [-0.26361576 -0.10784178  0.11893855 -0.0439189  -0.2804437 ]]\n"
     ]
    }
   ],
   "source": [
    "print(layer.get_weights()[0][0][2])"
   ]
  },
  {
   "cell_type": "code",
   "execution_count": 22,
   "metadata": {},
   "outputs": [
    {
     "ename": "error",
     "evalue": "/home/travis/miniconda/conda-bld/conda_1486587071158/work/opencv-3.1.0/modules/imgproc/src/imgwarp.cpp:3229: error: (-215) ssize.area() > 0 in function resize\n",
     "output_type": "error",
     "traceback": [
      "\u001b[0;31m---------------------------------------------------------------------------\u001b[0m",
      "\u001b[0;31merror\u001b[0m                                     Traceback (most recent call last)",
      "\u001b[0;32m<ipython-input-22-c1f3ada4cdc1>\u001b[0m in \u001b[0;36m<module>\u001b[0;34m()\u001b[0m\n\u001b[1;32m      1\u001b[0m \u001b[0mim\u001b[0m \u001b[0;34m=\u001b[0m \u001b[0mcv2\u001b[0m\u001b[0;34m.\u001b[0m\u001b[0mimread\u001b[0m\u001b[0;34m(\u001b[0m\u001b[0;34m\"test4.png\"\u001b[0m\u001b[0;34m)\u001b[0m\u001b[0;34m\u001b[0m\u001b[0m\n\u001b[0;32m----> 2\u001b[0;31m \u001b[0mim\u001b[0m \u001b[0;34m=\u001b[0m \u001b[0mcv2\u001b[0m\u001b[0;34m.\u001b[0m\u001b[0mresize\u001b[0m\u001b[0;34m(\u001b[0m\u001b[0mim\u001b[0m\u001b[0;34m,\u001b[0m \u001b[0;34m(\u001b[0m\u001b[0;36m32\u001b[0m \u001b[0;34m,\u001b[0m \u001b[0;36m32\u001b[0m\u001b[0;34m)\u001b[0m\u001b[0;34m)\u001b[0m\u001b[0;34m\u001b[0m\u001b[0m\n\u001b[0m\u001b[1;32m      3\u001b[0m \u001b[0mim\u001b[0m \u001b[0;34m=\u001b[0m \u001b[0mim\u001b[0m\u001b[0;34m.\u001b[0m\u001b[0mreshape\u001b[0m\u001b[0;34m(\u001b[0m\u001b[0;36m1\u001b[0m\u001b[0;34m,\u001b[0m\u001b[0;36m32\u001b[0m\u001b[0;34m,\u001b[0m\u001b[0;36m32\u001b[0m\u001b[0;34m,\u001b[0m\u001b[0;36m3\u001b[0m\u001b[0;34m)\u001b[0m\u001b[0;34m\u001b[0m\u001b[0m\n",
      "\u001b[0;31merror\u001b[0m: /home/travis/miniconda/conda-bld/conda_1486587071158/work/opencv-3.1.0/modules/imgproc/src/imgwarp.cpp:3229: error: (-215) ssize.area() > 0 in function resize\n"
     ]
    }
   ],
   "source": [
    "im = cv2.imread(\"test4.png\")\n",
    "im = cv2.resize(im, (32 , 32))\n",
    "im = im.reshape(1,32,32,3) "
   ]
  },
  {
   "cell_type": "code",
   "execution_count": 24,
   "metadata": {},
   "outputs": [],
   "source": [
    "imresize = cv2.resize(im, (32 , 32))\n",
    "imlist = np.array([imresize])\n",
    "classes =classifier.predict_classes(imlist)"
   ]
  },
  {
   "cell_type": "code",
   "execution_count": 25,
   "metadata": {},
   "outputs": [
    {
     "data": {
      "text/plain": [
       "array([1])"
      ]
     },
     "execution_count": 25,
     "metadata": {},
     "output_type": "execute_result"
    }
   ],
   "source": [
    "classes"
   ]
  },
  {
   "cell_type": "code",
   "execution_count": null,
   "metadata": {},
   "outputs": [],
   "source": []
  }
 ],
 "metadata": {
  "anaconda-cloud": {},
  "kernelspec": {
   "display_name": "Python [conda env:anaconda3]",
   "language": "python",
   "name": "conda-env-anaconda3-py"
  },
  "language_info": {
   "codemirror_mode": {
    "name": "ipython",
    "version": 3
   },
   "file_extension": ".py",
   "mimetype": "text/x-python",
   "name": "python",
   "nbconvert_exporter": "python",
   "pygments_lexer": "ipython3",
   "version": "3.5.4"
  }
 },
 "nbformat": 4,
 "nbformat_minor": 2
}
