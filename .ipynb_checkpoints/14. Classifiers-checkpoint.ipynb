{
 "cells": [
  {
   "cell_type": "code",
   "execution_count": null,
   "metadata": {
    "collapsed": true
   },
   "outputs": [],
   "source": [
    "Simple we can define a Classifier as it's the opposite of a Dictionary!!.....Let's see how.\n",
    "When you want to know the meaning of any word, you start to search up it in dictionary and what you'll find many meanings and descriptions or even features that define this word.\n",
    "\n",
    "A: what's this?\n",
    "B: this's a ball!\n",
    "A: how did you know that?\n",
    "B: regular sphere\n",
    "A: Do you know what did you say? .....it was a FEATURE.\n",
    "\n",
    "and that's it, we know objects and actions from features describe (Descriptor) their beings.\n",
    "\n",
    "let's move to young baby, can't speak, knows nothing.....just sitting, everyday his father comes to him saying\"Hey, i'm dad\", later his mother comes to him saying with smiley face \"this's mamy\".\n",
    "The baby now has some data trained in his brain, (man, saying that he's dad, having sharp voice) all these data describes an object knowing as (Father) and also with his mother and any thing in the surrounding.\n",
    "\n",
    "So, we can conclude that:\n",
    "1. Classifier is built before Dictionary.\n",
    "2. Classifier is a collection of data describes object or action with definite Feature so we can call these data    as Descriptor.\n",
    "\n",
    "but sometimes when we classify an object or action we fail to be definite, maybe because this object is almost similar to something else but differs in some fine features, so we must train ourselves to see these 2 objects and differ between them and in Our Image Processing Environment we call this \"Training\".\n",
    "\n",
    "Training is mainly depends on 2 methods.....Positive Training & Negative Training.\n",
    "We'll discus these 2 methods later.\n",
    "\n",
    "but now we'll see how to code a ready-made classifier in Opencv Library to detect faces in an Image.\n",
    "\n",
    "CODE:\n",
    "\n",
    "int main(){\n",
    "\n",
    "//Load Image to test\n",
    "IplImage* img= cvLoadImage( \"D:\\\\image.jpg\" );\n",
    "//Create memory storage\n",
    "CvMemStorage* storage = cvCreateMemStorage(0);\n",
    "\n",
    "//Load classifier... you can find built in classifier in \"\\data\\\" in Opencv Directory folder\n",
    "CvHaarClassifierCascade* cascade = (CvHaarClassifierCascade*)cvLoad(\"C:\\\\Opencv2.4.3\\\\opencv\\\\data\\\\haarcascades\\\\haarcascade_profileface.xml\" );\n",
    "\n",
    "//Clear memory storage...you can skip it but in other situations you need to do it to insure that //nothing stored before\n",
    "cvClearMemStorage( storage );\n",
    "\n",
    "//Define sequencing variable so it can store faces in the sequence of allocating them in the image\n",
    "//and to detect these faces.. cvHaarDetectObjects has 3 important parameters, the image, the classifier to detect faces and Storage memory to store these face\n",
    "CvSeq* objects = cvHaarDetectObjects( img, cascade, storage);\n",
    "\n",
    "//Loop to get the detected faces and get the bounding rectangle size to draw rectangle around the //indexed faces\n",
    "for( int i = 0; i < (objects ? objects->total : 0 ); i++ ){\n",
    "\n",
    " CvRect* r = ( CvRect* )cvGetSeqElem( objects, i );\n",
    " cvRectangle( img, cvPoint( r->x, r->y ), cvPoint( r->x + r->width, r->y + r->height ),cvScalar(255,0,0));\n",
    "}\n",
    "\n",
    "cvNamedWindow( \"Output\" );\n",
    "cvShowImage( \"Output\", img );\n",
    "cvMoveWindow(\"Output\",10,10);\n",
    "cvWaitKey();\n",
    "cvReleaseImage( &img );\n",
    "return 0;\n",
    "}"
   ]
  }
 ],
 "metadata": {
  "anaconda-cloud": {},
  "kernelspec": {
   "display_name": "Python [conda env:anaconda3]",
   "language": "python",
   "name": "conda-env-anaconda3-py"
  },
  "language_info": {
   "codemirror_mode": {
    "name": "ipython",
    "version": 3
   },
   "file_extension": ".py",
   "mimetype": "text/x-python",
   "name": "python",
   "nbconvert_exporter": "python",
   "pygments_lexer": "ipython3",
   "version": "3.5.3"
  }
 },
 "nbformat": 4,
 "nbformat_minor": 1
}
