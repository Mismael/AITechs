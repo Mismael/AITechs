{
 "cells": [
  {
   "cell_type": "markdown",
   "metadata": {},
   "source": [
    "Reading Streams means reading image frames from a video file on your machine or live camera stream, so in this tutorial you will get know to this topic using both Python and C Languages."
   ]
  },
  {
   "cell_type": "markdown",
   "metadata": {},
   "source": [
    "# Video Files"
   ]
  },
  {
   "cell_type": "markdown",
   "metadata": {},
   "source": [
    "### Python"
   ]
  },
  {
   "cell_type": "code",
   "execution_count": null,
   "metadata": {
    "collapsed": true
   },
   "outputs": [],
   "source": []
  },
  {
   "cell_type": "markdown",
   "metadata": {},
   "source": [
    "### C"
   ]
  },
  {
   "cell_type": "code",
   "execution_count": null,
   "metadata": {
    "collapsed": true
   },
   "outputs": [],
   "source": []
  },
  {
   "cell_type": "markdown",
   "metadata": {},
   "source": [
    "# Live Camera Stream"
   ]
  },
  {
   "cell_type": "markdown",
   "metadata": {},
   "source": [
    "### Python"
   ]
  },
  {
   "cell_type": "code",
   "execution_count": null,
   "metadata": {
    "collapsed": true
   },
   "outputs": [],
   "source": [
    "#Recording\n",
    "import numpy as np\n",
    "import cv2\n",
    "\n",
    "cap = cv2.VideoCapture(0)\n",
    "# Define the codec and create VideoWriter object\n",
    "fourcc = cv2.VideoWriter_fourcc(*'XVID')\n",
    "out = cv2.VideoWriter('output2.avi',fourcc, 20.0, (640,480))\n",
    "\n",
    "while(cap.isOpened()):\n",
    "        ret, frame = cap.read()\n",
    "        if ret==True:\n",
    "            frame = cv2.flip(frame,1)\n",
    "\n",
    "            # write the flipped frame\n",
    "            out.write(frame)\n",
    "\n",
    "            cv2.imshow('frame',frame)\n",
    "            if cv2.waitKey(1) & 0xFF == ord('q'):\n",
    "                break\n",
    "        else:\n",
    "            break\n",
    "\n",
    "    # Release everything if job is finished\n",
    "cap.release()\n",
    "out.release()\n",
    "cv2.destroyAllWindows()"
   ]
  },
  {
   "cell_type": "markdown",
   "metadata": {},
   "source": [
    "### C"
   ]
  },
  {
   "cell_type": "code",
   "execution_count": null,
   "metadata": {
    "collapsed": true
   },
   "outputs": [],
   "source": []
  },
  {
   "cell_type": "code",
   "execution_count": null,
   "metadata": {},
   "outputs": [],
   "source": [
    "\n",
    "Posted by Mohammed Magdy Ismael\n",
    "CODE YOUR EYES P.2 (VIDEO FILE AND CAMERA) - UPDATED (RECORDING)\n",
    "Now we will deal with how to open a saved Video on your computer.\n",
    "we use an new function to read the video file \"cvCreateFileCapture\", and to use it properly you must include a .dll file in the .exe file directory.\n",
    "\n",
    "Open \"C:\\OpenCV-2.3.1\\build\\x64\\vc10\\bin\" ... you'll find a file \"opencv_ffmpeg_64.dll\", cope it and paste in your .exe folder of the project.\n",
    "\n",
    "You can open *.avi and *.mpeg, some say that it can open *.wma file so try it.\n",
    "\n",
    "When dealing with the video files you must know that your camera (or video) capture sequence of images, so your code must make frames to contain all this images and show it as long as your camera (or video) takes captures.\n",
    "\n",
    "2. Show a Video\n",
    "\n",
    "\n",
    "#include <opencv\\highgui.h>\n",
    "int main() {\n",
    "             cvNamedWindow( “Video”, CV_WINDOW_AUTOSIZE );\n",
    "             CvCapture* capture = cvCreateFileCapture(\"D:\\\\test.avi\");\n",
    "             IplImage* frame;\n",
    "\n",
    "             while(1) {\n",
    "                 frame = cvQueryFrame( capture );\n",
    "                 if( !frame ) break;\n",
    "                cvShowImage( “Video”, frame );\n",
    "                char c = cvWaitKey(33);\n",
    "                if( c == 27 ) break;\n",
    "}\n",
    "           cvReleaseCapture( &capture );\n",
    "           cvDestroyWindow( “Video” );\n",
    "}\n",
    "\n",
    "Explanation: \n",
    "\n",
    "we created a window and called it \"Video\" to show our captured video in it.\n",
    "\n",
    "CvCapture: is a structure function like \"IplImage\" that we used it before to hold the image data, but this one \n",
    "                    is for holding the data of the video captures file.\n",
    "\n",
    "cvCreateFileCapture(\"video file directory\"): this function reads the video directory and the data which\n",
    "                                                                           will be hold. \n",
    "\n",
    "then we created variable called \"frame\" to hold each capture from the video, and as i said before, the video is a number of images in sequence so i used the \"IplImage\" to hold each image.\n",
    "\n",
    "and in my while loop and as long as my camera captures images, we will take each capture in a frame by:\n",
    "\n",
    "cvQueryFrame(the camera capture): which will take each capture and save it in a single frame each time,\n",
    "                                                              and we used  \"cvShowImage\" to show each frame.\n",
    "\n",
    "\n",
    " if( !frame ) break: we used it to check each frame, if the frame is null, the loop will be terminated.\n",
    "\n",
    "the rest of the code is simple and explained in the previous Tutorial.\n",
    "\n",
    "\n",
    "DO YOU WANT THE MAGIC.... Let's open Camera now.\n",
    "\n",
    "3. Open Camera\n",
    "\n",
    "\n",
    "\n",
    "#include <opencv\\highgui.h>\n",
    "\n",
    "int main() {\n",
    "            cvNamedWindow( \"Video\", CV_WINDOW_AUTOSIZE );\n",
    "            CvCapture*capture =cvCaptureFromCAM(0);\n",
    "            IplImage* frame;\n",
    "\n",
    "             while(1) {\n",
    "                 frame = cvQueryFrame( capture );\n",
    "                 if( !frame ) break;\n",
    "                cvShowImage( \"Video\", frame );\n",
    "  char c = cvWaitKey(33);\n",
    "                if( c == 27 ) break;\n",
    "}\n",
    "           cvReleaseCapture( &capture );\n",
    "           cvDestroyWindow( \"Video\" );\n",
    "}\n",
    "  \n",
    "\n",
    "Explanation:\n",
    "\n",
    "The same if you want to open video file but we replaced \"cvCreateFileCapture\" with \"cvCreateCameraCapture\".\n",
    "\n",
    "cvCreateCameraCapture(device id): if there're more than one camera, so for each one there's an\n",
    "                                                              ID but if there's single camera just but 0. \n",
    "\n",
    "\n",
    "4. Recording\n",
    "\n",
    "int main()\n",
    "{\n",
    "     //load the video file to the memory\n",
    "     CvCapture *capture = cvCaptureFromAVI(\"C:/video.avi\");\n",
    "     if( !capture ) return 1;\n",
    "    //get the width of frame\n",
    "    int frame_width=(int) cvGetCaptureProperty(capture, CV_CAP_PROP_FRAME_WIDTH);\n",
    "    //get the height of frame\n",
    "    int frame_height=(int) cvGetCaptureProperty(capture, CV_CAP_PROP_FRAME_HEIGHT);\n",
    "    //get the frames per second\n",
    "    int fps = ( int )cvGetCaptureProperty( capture, CV_CAP_PROP_FPS );\n",
    "\n",
    "//creating video writer structure\n",
    "// Available Video Formats\n",
    "//CV_FOURCC('D', 'I', 'V', '3') for MPEG-4.3 codec\n",
    "//CV_FOURCC('M', 'P', '4', '2') for MPEG-4.2 codec\n",
    "//CV_FOURCC('D', 'I', 'V', 'X') for MPEG-4 codec\n",
    "//CV_FOURCC('P','I','M','1') for MPEG-1 codec\n",
    "//CV_FOURCC('U', '2', '6', '3') for H263 codec\n",
    "//CV_FOURCC('I', '2', '6', '3') for H263I codec\n",
    "//CV_FOURCC('F', 'L', 'V', '1') for FLV1 codec\n",
    "\n",
    "CvVideoWriter *writer=cvCreateVideoWriter(\"savedVideo.avi\",CV_FOURCC('M', 'P', '4','2'),fps,cvSize(frame_width,frame_height),1);\n",
    "\n",
    "if( !writer ) {\n",
    "      //release memory\n",
    "      cvReleaseCapture( &capture );\n",
    "      return 0;\n",
    "}\n",
    "while(true) {\n",
    "      //grab and retrieve each frames of the video sequentially\n",
    "      IplImage* frame = cvQueryFrame( capture );\n",
    "      if( !frame ) break;\n",
    "      //writing frame by frame to the output file\n",
    "      cvWriteFrame(writer,frame);\n",
    "                }\n",
    "    //release memory\n",
    "    cvReleaseVideoWriter(&writer);\n",
    "    cvReleaseCapture( &capture );\n",
    "    return 0;\n",
    "}\n",
    "\n",
    "NEXT....Let's Make Processing.\n"
   ]
  }
 ],
 "metadata": {
  "anaconda-cloud": {},
  "kernelspec": {
   "display_name": "Python [conda env:anaconda3]",
   "language": "python",
   "name": "conda-env-anaconda3-py"
  },
  "language_info": {
   "codemirror_mode": {
    "name": "ipython",
    "version": 3
   },
   "file_extension": ".py",
   "mimetype": "text/x-python",
   "name": "python",
   "nbconvert_exporter": "python",
   "pygments_lexer": "ipython3",
   "version": "3.5.3"
  }
 },
 "nbformat": 4,
 "nbformat_minor": 1
}
