{
 "cells": [
  {
   "cell_type": "code",
   "execution_count": null,
   "metadata": {
    "collapsed": true
   },
   "outputs": [],
   "source": [
    "ROI or (Region Of Interest)... is a technique in which you can apply any processing on definite region in your frame area.\n",
    "\n",
    "cvSetImageROI(IplImage* image, CvRect rect)\n",
    "\n",
    "this function takes 2 parameters which are.... the source frame image and rectangle of the bounded region which we will process it.\n",
    "\n",
    "we'll apply simple processing of add layer on definite region.\n",
    "\n",
    "so let's have an example to show how it works....\n",
    "\n",
    "CODE:\n",
    "\n",
    "#include <opencv\\cv.h>\n",
    "#include <opencv\\highgui.h>\n",
    " \n",
    "int main()\n",
    "{\n",
    "        IplImage* src=cvLoadImage(\"D:\\\\image.jpg\",1);\n",
    "        cvNamedWindow(\"ROI\", CV_WINDOW_AUTOSIZE);\n",
    " \n",
    " cvSetImageROI(src, cvRect(100,100,300,300));\n",
    " cvAddS(src, cvScalar(255,0,0),src);  \\\\Add layer of blue layer\n",
    " cvResetImageROI(src);  \\\\to apply the processed region on the orginal frame\n",
    "\n",
    " cvShowImage( \"ROI\",src);\n",
    "        cvWaitKey();\n",
    " cvReleaseImage( &src );\n",
    " cvDestroyWindow(\"ROI\"); \n",
    "    return 0;\n",
    "\n",
    "}"
   ]
  }
 ],
 "metadata": {
  "anaconda-cloud": {},
  "kernelspec": {
   "display_name": "Python [conda env:anaconda3]",
   "language": "python",
   "name": "conda-env-anaconda3-py"
  },
  "language_info": {
   "codemirror_mode": {
    "name": "ipython",
    "version": 3
   },
   "file_extension": ".py",
   "mimetype": "text/x-python",
   "name": "python",
   "nbconvert_exporter": "python",
   "pygments_lexer": "ipython3",
   "version": "3.5.3"
  }
 },
 "nbformat": 4,
 "nbformat_minor": 1
}
