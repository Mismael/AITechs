{
 "cells": [
  {
   "cell_type": "code",
   "execution_count": null,
   "metadata": {
    "collapsed": true
   },
   "outputs": [],
   "source": [
    "In my previous post i mentioned how to contour definite object in image frame, and for any who participated in minesweepers competition will just have one word to say:\"THEN WHAT!!\".\n",
    "\n",
    "Contouring is good but for most of us we want to count these contoured object.... it's so simple.\n",
    "\n",
    "cvFindContours... this function find the contours of the defined objects in our threshold-ed frame..\n",
    "\n",
    "but also this function returns how many contour was found in the frame..\n",
    "\n",
    "Code:\n",
    "\n",
    "int main(){\n",
    "IplImage* img = cvLoadImage( \"D:\\\\arena.jpg\" );\n",
    "IplImage* hsv = cvCreateImage(cvGetSize(img),IPL_DEPTH_8U,3);\n",
    "IplImage* bw = cvCreateImage(cvGetSize(img),IPL_DEPTH_8U,1); \n",
    "cvCvtColor(img, hsv, CV_BGR2HSV);\n",
    "cvInRangeS(hsv, cvScalar(0, 0, 0), cvScalar(174, 183, 54), bw); // black\n",
    "\n",
    "CvSeq* contours; //hold the pointer to a contour in the memory block\n",
    "CvSeq* result; //hold sequence of points of a contour\n",
    "CvMemStorage *storage = cvCreateMemStorage(0); \n",
    "int i;\n",
    "i=cvFindContours(bw,storage,&contours,sizeof(CvContour),CV_RETR_EXTERNAL,CV_CHAIN_APPROX_SIMPLE,cvPoint(0,0));\n",
    "cvDrawContours(bw, contours, cvScalar(255,255,255), cvScalar(255,255,255),CV_FILLED);\n",
    "\n",
    "printf(\"%d\",i);\n",
    "\n",
    "cvShowImage(\"src\", bw);\n",
    "cvShowImage(\"Origin Arena\",img);\n",
    "cvWaitKey(0);\n",
    "return 0;\n",
    "} \n",
    "\n",
    "\n",
    "Simple Explain.... we define a pointer that holds the contour points around the object.\n",
    "imagine it like a pointer searching for the white area in the threshold-ed frame, and when it finds any white area it starts to save point around this area.\n",
    "\n",
    "1 2 3 4 5 6 7 1  .......... contour number 1\n",
    "1 2 3 4 5 6 7 8 9 10 1 ...... contour number 2 and so on, when the pointer return to the first defined point around the white area ...it counts a whole rounded contour.\n",
    "\n",
    "this is a print screen for the output of the previous code..\n",
    "\n",
    "\n",
    "another Tested Image\n",
    "\n",
    "\n"
   ]
  }
 ],
 "metadata": {
  "anaconda-cloud": {},
  "kernelspec": {
   "display_name": "Python [conda env:anaconda3]",
   "language": "python",
   "name": "conda-env-anaconda3-py"
  },
  "language_info": {
   "codemirror_mode": {
    "name": "ipython",
    "version": 3
   },
   "file_extension": ".py",
   "mimetype": "text/x-python",
   "name": "python",
   "nbconvert_exporter": "python",
   "pygments_lexer": "ipython3",
   "version": "3.5.3"
  }
 },
 "nbformat": 4,
 "nbformat_minor": 1
}
